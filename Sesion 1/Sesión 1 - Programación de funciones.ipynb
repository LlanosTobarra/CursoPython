{
 "cells": [
  {
   "cell_type": "markdown",
   "metadata": {
    "slideshow": {
     "slide_type": "slide"
    }
   },
   "source": [
    "# Programación Funcional\n",
    "\n",
    "Aunque Python es un lenguaje de Scripting contiene ciertas características de programación funcional, características que suelen ser explotadas en los entornos de Data Science y Big Data."
   ]
  },
  {
   "cell_type": "markdown",
   "metadata": {
    "slideshow": {
     "slide_type": "slide"
    }
   },
   "source": [
    "## Funciones de alto nivel\n",
    "\n",
    "Como ya hemos visto, las funciones son un objeto más del lenguaje y podemos almacenarlas en una variable como objeto más.\n",
    "\n"
   ]
  },
  {
   "cell_type": "code",
   "execution_count": 5,
   "metadata": {
    "collapsed": false,
    "slideshow": {
     "slide_type": "fragment"
    }
   },
   "outputs": [
    {
     "name": "stdout",
     "output_type": "stream",
     "text": [
      "Hola, buenos días\n",
      "None\n",
      "Good morning\n",
      "None\n"
     ]
    }
   ],
   "source": [
    "def saludo(idioma):\n",
    "    def saludo_es():\n",
    "        print \"Hola, buenos días\"\n",
    "    def saludo_en():\n",
    "        print \"Good morning\"\n",
    "    def saludo_fr():\n",
    "        print \"Bon jour\"\n",
    "        \n",
    "    saludos={\"es\":saludo_es, \"en\": saludo_en, \"fr\": saludo_fr}\n",
    "    return saludos[idioma]\n",
    "\n",
    "f=saludo('es')\n",
    "print f()\n",
    "print saludo('en')()"
   ]
  },
  {
   "cell_type": "markdown",
   "metadata": {
    "slideshow": {
     "slide_type": "subslide"
    }
   },
   "source": [
    "Podemos aprovechar esta capacidad de Python para utilizarla con las colecciones vistas en clase mediante los métodos `map`, `filter` y `reduce`. Realmente estas funciones nos permiten evitar bucles mediante construcciones equivalentes.\n",
    "\n",
    "La función  **`map(función, secuencia)` ** aplica la función a todos los elementos de una secuencia:"
   ]
  },
  {
   "cell_type": "code",
   "execution_count": 12,
   "metadata": {
    "collapsed": false,
    "slideshow": {
     "slide_type": "fragment"
    }
   },
   "outputs": [
    {
     "name": "stdout",
     "output_type": "stream",
     "text": [
      "[1, 2, 3, 4, 5, 6, 7, 8, 9]\n",
      "[1, 4, 9, 16, 25, 36, 49, 64, 81]\n"
     ]
    }
   ],
   "source": [
    "def cuadrado(x):\n",
    "    return x*x\n",
    "\n",
    "seq1=range(1,10)\n",
    "print seq1\n",
    "print map(cuadrado,seq1)"
   ]
  },
  {
   "cell_type": "markdown",
   "metadata": {
    "slideshow": {
     "slide_type": "subslide"
    }
   },
   "source": [
    "La función **`filter(función, secuencia)`** aplica la una función que debe devolver un valor booleano a la secuencia y borra aquellos elementos de la colección para los que la función no devuelve cierto."
   ]
  },
  {
   "cell_type": "code",
   "execution_count": 10,
   "metadata": {
    "collapsed": false,
    "slideshow": {
     "slide_type": "fragment"
    }
   },
   "outputs": [
    {
     "name": "stdout",
     "output_type": "stream",
     "text": [
      "['1980', '3']\n"
     ]
    }
   ],
   "source": [
    "def es_numero(cadena):\n",
    "    return cadena.isdigit()\n",
    "\n",
    "seq2=[\"En\",\"1980\",\"don\",\"Francisco\",\"compro\",\"3\",\"botellas.\"]\n",
    "print filter(es_numero,seq2)"
   ]
  },
  {
   "cell_type": "markdown",
   "metadata": {
    "slideshow": {
     "slide_type": "subslide"
    }
   },
   "source": [
    "La función **`reduce(función, secuencia)`** aplica la función a toda la secuencia para reducirla a un único valor."
   ]
  },
  {
   "cell_type": "code",
   "execution_count": 14,
   "metadata": {
    "collapsed": false,
    "slideshow": {
     "slide_type": "fragment"
    }
   },
   "outputs": [
    {
     "name": "stdout",
     "output_type": "stream",
     "text": [
      "45\n",
      "En 1980 don Francisco compro 3 botellas.\n"
     ]
    }
   ],
   "source": [
    "def suma(x,y):\n",
    "    return x+y\n",
    "\n",
    "print reduce(suma,seq1)\n",
    "\n",
    "def concatena(x,y):\n",
    "    return \"{0} {1}\".format(x,y)\n",
    "\n",
    "print reduce(concatena,seq2)"
   ]
  },
  {
   "cell_type": "markdown",
   "metadata": {
    "deletable": true,
    "editable": true,
    "slideshow": {
     "slide_type": "slide"
    }
   },
   "source": [
    "## Funciones Lambda\n",
    "\n",
    "El operador Lambda sirve para crear funciones anónima en una sóla línea. En ocasiones vamos a querer o necesitar funciones sencillas que ocupan una sóla línea y que no queremos utilizar más de una vez. En esos casos la notación lambda es útil.\n",
    "\n",
    "Una función lambda se define como:\n",
    "\n",
    "`lambda parametro1, parametro2,... : expresión`\n",
    "\n",
    "Su traducción a las funciones que hemos visto sería:\n",
    "\n",
    "`def ---- (parametro1, parametro2,...):`\n",
    "\n",
    "    return expresion"
   ]
  },
  {
   "cell_type": "code",
   "execution_count": 19,
   "metadata": {
    "collapsed": false,
    "slideshow": {
     "slide_type": "fragment"
    }
   },
   "outputs": [
    {
     "name": "stdout",
     "output_type": "stream",
     "text": [
      "45\n",
      "[1, 4, 9, 16, 25, 36, 49, 64, 81]\n",
      "[2, 4, 6, 8]\n"
     ]
    }
   ],
   "source": [
    "# en el ejemplo anterior vimos la función suma para el método reduce, podemos reescribirlo como\n",
    "print reduce(lambda x,y : x+y, seq1)\n",
    "# o por ejemplo el caso de la función map y la función cuadrado\n",
    "print map(lambda x: x*x, seq1)    \n",
    "# o por ejemplo nos quedamos sólo con los números pares\n",
    "print filter(lambda x: True if x%2==0 else False, seq1)"
   ]
  },
  {
   "cell_type": "markdown",
   "metadata": {
    "slideshow": {
     "slide_type": "slide"
    }
   },
   "source": [
    "## Compresión de Listas\n",
    "\n",
    "La comprensión de listas es un mecanismo que nos permite definir listas en base a otras listas. Cada una de estas listas contiene una expresión similar a las funciones lambda que indica como modificar cada valor individual de la lista original para generar la nueva lista. \n",
    "\n",
    "Generalmente esta expresiones suelen ser bucles for o sentencias if en una sola línea."
   ]
  },
  {
   "cell_type": "code",
   "execution_count": 24,
   "metadata": {
    "collapsed": false,
    "slideshow": {
     "slide_type": "fragment"
    }
   },
   "outputs": [
    {
     "name": "stdout",
     "output_type": "stream",
     "text": [
      "[1, 4, 9, 16, 25, 36, 49, 64, 81]\n",
      "[2, 4, 6, 8]\n",
      "['1980', '3']\n"
     ]
    }
   ],
   "source": [
    "print [x*x for x in seq1]\n",
    "print [x for x in seq1 if x%2==0]\n",
    "print [x for x in seq2 if x.isdigit()]"
   ]
  },
  {
   "cell_type": "code",
   "execution_count": 26,
   "metadata": {
    "collapsed": false,
    "slideshow": {
     "slide_type": "fragment"
    }
   },
   "outputs": [
    {
     "name": "stdout",
     "output_type": "stream",
     "text": [
      "[(1, 'En'), (1, '1980'), (1, 'don'), (1, 'Francisco'), (1, 'compro'), (1, '3'), (1, 'botellas.'), (2, 'En'), (2, '1980'), (2, 'don'), (2, 'Francisco'), (2, 'compro'), (2, '3'), (2, 'botellas.'), (3, 'En'), (3, '1980'), (3, 'don'), (3, 'Francisco'), (3, 'compro'), (3, '3'), (3, 'botellas.'), (4, 'En'), (4, '1980'), (4, 'don'), (4, 'Francisco'), (4, 'compro'), (4, '3'), (4, 'botellas.'), (5, 'En'), (5, '1980'), (5, 'don'), (5, 'Francisco'), (5, 'compro'), (5, '3'), (5, 'botellas.'), (6, 'En'), (6, '1980'), (6, 'don'), (6, 'Francisco'), (6, 'compro'), (6, '3'), (6, 'botellas.'), (7, 'En'), (7, '1980'), (7, 'don'), (7, 'Francisco'), (7, 'compro'), (7, '3'), (7, 'botellas.'), (8, 'En'), (8, '1980'), (8, 'don'), (8, 'Francisco'), (8, 'compro'), (8, '3'), (8, 'botellas.'), (9, 'En'), (9, '1980'), (9, 'don'), (9, 'Francisco'), (9, 'compro'), (9, '3'), (9, 'botellas.')]\n"
     ]
    }
   ],
   "source": [
    "print [(x,y) for x in seq1\n",
    "            for y in seq2]"
   ]
  },
  {
   "cell_type": "markdown",
   "metadata": {
    "slideshow": {
     "slide_type": "slide"
    }
   },
   "source": [
    "## Generadores\n",
    "\n",
    "Los generadores son muy similares a las listas definidas por comprensión, con la diferencia de que no devuelven otra lista sino un objeto generador. Su definicion es igual que las listas pero en lugar de corchetes usamos paréntesis."
   ]
  },
  {
   "cell_type": "code",
   "execution_count": 36,
   "metadata": {
    "collapsed": false,
    "slideshow": {
     "slide_type": "fragment"
    }
   },
   "outputs": [
    {
     "name": "stdout",
     "output_type": "stream",
     "text": [
      "<generator object <genexpr> at 0x0000000004643BD0>\n",
      "<type 'generator'>\n"
     ]
    }
   ],
   "source": [
    "generador=(x for x in seq2 if x.isdigit())\n",
    "print generador\n",
    "print type(generador)"
   ]
  },
  {
   "cell_type": "markdown",
   "metadata": {
    "slideshow": {
     "slide_type": "subslide"
    }
   },
   "source": [
    "Un generador es un tipo especial de objeto que nos va a permitir recorrer una colección utilizando la palabra reservada `yield` sustituyendo a `retutn`en una función o bien en bucles for normales. \n",
    "\n",
    "La ventaja de este sistema es que se genera un objeto sólo tras la llamada a yield, luego no creamos toda la lista completa en memoria. De forma que si necesitamos ahorrar memoria puede ser un mecanismo útil."
   ]
  },
  {
   "cell_type": "code",
   "execution_count": 33,
   "metadata": {
    "collapsed": false,
    "slideshow": {
     "slide_type": "fragment"
    }
   },
   "outputs": [
    {
     "name": "stdout",
     "output_type": "stream",
     "text": [
      "Entro en f\n",
      "Voy a hacer yield i\n",
      "MOSTRANDO: a\n",
      "He hecho yield i\n",
      "Voy a hacer yield i\n",
      "MOSTRANDO: b\n",
      "He hecho yield i\n",
      "Voy a hacer yield i\n",
      "MOSTRANDO: c\n",
      "He hecho yield i\n",
      "Salgo de f\n"
     ]
    }
   ],
   "source": [
    "for i in generador:\n",
    "    print i\n",
    "    \n",
    "#Uso de yield\n",
    "def f(lista):\n",
    "\tprint \"Entro en f\"\n",
    "\tfor i in lista:\n",
    "\t\tprint \"Voy a hacer yield i\"\n",
    "\t\tyield i\n",
    "\t\tprint \"He hecho yield i\"\n",
    "\tprint \"Salgo de f\"\n",
    "\n",
    "for i in f(['a','b','c']):\n",
    "\tprint \"MOSTRANDO:\",i\n"
   ]
  },
  {
   "cell_type": "markdown",
   "metadata": {
    "slideshow": {
     "slide_type": "subslide"
    }
   },
   "source": [
    "En cualquier caso, podemos transformar cualquier generador a una lista con el método **`list(generador)`**"
   ]
  },
  {
   "cell_type": "code",
   "execution_count": 37,
   "metadata": {
    "collapsed": false,
    "slideshow": {
     "slide_type": "fragment"
    }
   },
   "outputs": [
    {
     "name": "stdout",
     "output_type": "stream",
     "text": [
      "<type 'list'>\n",
      "['1980', '3']\n"
     ]
    }
   ],
   "source": [
    "nlista=list(generador)\n",
    "print type(nlista)\n",
    "print nlista"
   ]
  }
 ],
 "metadata": {
  "anaconda-cloud": {},
  "celltoolbar": "Slideshow",
  "kernelspec": {
   "display_name": "Python [default]",
   "language": "python",
   "name": "python2"
  },
  "language_info": {
   "codemirror_mode": {
    "name": "ipython",
    "version": 2
   },
   "file_extension": ".py",
   "mimetype": "text/x-python",
   "name": "python",
   "nbconvert_exporter": "python",
   "pygments_lexer": "ipython2",
   "version": "2.7.12"
  }
 },
 "nbformat": 4,
 "nbformat_minor": 1
}
