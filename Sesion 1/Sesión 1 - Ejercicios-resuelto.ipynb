{
 "cells": [
  {
   "cell_type": "markdown",
   "metadata": {
    "collapsed": true,
    "deletable": true,
    "editable": true
   },
   "source": [
    "# Una consulta a Twitter\n",
    "\n",
    "Hemos realizado dos consultas a Twitter y hemos almacenado los resultados en el fichero \"trump.txt\". Vamos a trabajar con este fichero a lo largo de este ejercicio. Así que lo primero es leer el fichero y cargarlo en una variable."
   ]
  },
  {
   "cell_type": "code",
   "execution_count": 1,
   "metadata": {
    "collapsed": true,
    "deletable": true,
    "editable": true
   },
   "outputs": [],
   "source": [
    "#Escribe el código necesario para leer el fichero \"trump.txt\" y almacenalo en una variable llamada consulta\n",
    "f=open(\"trump.txt\",'r')\n",
    "consulta=f.read()\n",
    "f.close()"
   ]
  },
  {
   "cell_type": "code",
   "execution_count": 2,
   "metadata": {
    "collapsed": false,
    "deletable": true,
    "editable": true
   },
   "outputs": [
    {
     "name": "stdout",
     "output_type": "stream",
     "text": [
      "Felicidades fichero leído\n"
     ]
    }
   ],
   "source": [
    "#ejecuta la siguiente sentencias para ver el fichero\n",
    "if consulta[0:100]=='{\"search_metadata\": {\"count\": 15, \"completed_in\": 0.061, \"max_id_str\": \"910822593783062529\", \"since_':\n",
    "    print \"Felicidades fichero leído\""
   ]
  },
  {
   "cell_type": "markdown",
   "metadata": {
    "deletable": true,
    "editable": true
   },
   "source": [
    "Como vemos el formato del fichero es json así que debemos transformar la cadena consulta en json. Sin embargo, dentro del fichero como hemos comentado al principio hay dos consultas. Así que vamos a separar ambas consultas. Ayudate de la función split para transformar nuestra consulta en una lista con dos elemntos. Llama a la lista consultas."
   ]
  },
  {
   "cell_type": "code",
   "execution_count": 3,
   "metadata": {
    "collapsed": false,
    "deletable": true,
    "editable": true
   },
   "outputs": [],
   "source": [
    "consultas=consulta.split('---')"
   ]
  },
  {
   "cell_type": "code",
   "execution_count": 4,
   "metadata": {
    "collapsed": false,
    "deletable": true,
    "editable": true
   },
   "outputs": [
    {
     "name": "stdout",
     "output_type": "stream",
     "text": [
      "Ya hemos dividido la consulta\n"
     ]
    }
   ],
   "source": [
    "#Si todo ha ido bien debes tener dos elementos\n",
    "if len(consultas)==2:\n",
    "    print \"Ya hemos dividido la consulta\""
   ]
  },
  {
   "cell_type": "markdown",
   "metadata": {
    "deletable": true,
    "editable": true
   },
   "source": [
    "Bien, ahora nos encargaremos de transformar el texto JSON en un formato que podamos manejar con más comodidad. Vamos a empezar por la primera consulta. Para ello utiliza la biblioteca JSON vista en el curso. Almacenaremos el resultado en las variables consulta1 y consulta2"
   ]
  },
  {
   "cell_type": "code",
   "execution_count": 5,
   "metadata": {
    "collapsed": true,
    "deletable": true,
    "editable": true
   },
   "outputs": [],
   "source": [
    "import json\n",
    "#transforma consultas en objetos de Python\n",
    "consulta1=json.loads(consultas[0])\n",
    "consulta2=json.loads(consultas[1])"
   ]
  },
  {
   "cell_type": "markdown",
   "metadata": {
    "deletable": true,
    "editable": true
   },
   "source": [
    "Una vez que tenemos las consultas en formato JSON, existe un elemento llamado \"search_metadata\" que contiene información relacionada con la consulta como por ejemplo el tiempo que ha tardado en hacerse al consulta o la fecha. Dentro de ese elemento existe un subelemento llamado \"query\" que contiene la cadena con la que hemos realizado la búsqueda. Muestra las consultas realizadas con una instrucción print."
   ]
  },
  {
   "cell_type": "code",
   "execution_count": 6,
   "metadata": {
    "collapsed": false,
    "deletable": true,
    "editable": true
   },
   "outputs": [
    {
     "name": "stdout",
     "output_type": "stream",
     "text": [
      "La primera consulta ha sido sobre el término Trump y la segunda consulta sobre el término %40POTUS\n"
     ]
    }
   ],
   "source": [
    "#Vamos a ver la información de \n",
    "print \"La primera consulta ha sido sobre el término {0} y la segunda consulta sobre el término {1}\".format(consulta1['search_metadata']['query'],consulta2['search_metadata']['query']) "
   ]
  },
  {
   "cell_type": "raw",
   "metadata": {
    "deletable": true,
    "editable": true
   },
   "source": [
    "Otro elemento importante en las consultas es el elemento \"statuses\". Este elemento es donde vamos a encontrar los tweets que nos ha devuelto la consulta. Muestra mediante print y utilizando la función len la cantidad de tweets que nos hemos descargado."
   ]
  },
  {
   "cell_type": "code",
   "execution_count": 7,
   "metadata": {
    "collapsed": false,
    "deletable": true,
    "editable": true
   },
   "outputs": [
    {
     "name": "stdout",
     "output_type": "stream",
     "text": [
      "En la primera consulta tenemos 15 tweets\n",
      "En la segunda consulta tenemos 14 tweets\n"
     ]
    }
   ],
   "source": [
    "print \"En la primera consulta tenemos {0} tweets\".format(len(consulta1['statuses']))\n",
    "print \"En la segunda consulta tenemos {0} tweets\".format(len(consulta2['statuses']))"
   ]
  },
  {
   "cell_type": "markdown",
   "metadata": {
    "deletable": true,
    "editable": true
   },
   "source": [
    "Vamos a echarle un vistazo a la informacion contenida en un tweet:"
   ]
  },
  {
   "cell_type": "code",
   "execution_count": 8,
   "metadata": {
    "collapsed": false,
    "deletable": true,
    "editable": true
   },
   "outputs": [
    {
     "name": "stdout",
     "output_type": "stream",
     "text": [
      "{\n",
      "    \"contributors\": null, \n",
      "    \"truncated\": false, \n",
      "    \"text\": \"Aux Nations-Unies, Donald Trump vient de prononcer un violent discours de guerre. Il s\\u2019est dit pr\\u00eat \\u00e0 \\u00ab d\\u00e9truire... https://t.co/2X35rkAAZE\", \n",
      "    \"is_quote_status\": false, \n",
      "    \"in_reply_to_status_id\": null, \n",
      "    \"id\": 910822593783062529, \n",
      "    \"favorite_count\": 0, \n",
      "    \"source\": \"<a href=\\\"http://www.facebook.com/twitter\\\" rel=\\\"nofollow\\\">Facebook</a>\", \n",
      "    \"retweeted\": false, \n",
      "    \"coordinates\": null, \n",
      "    \"entities\": {\n",
      "        \"symbols\": [], \n",
      "        \"user_mentions\": [], \n",
      "        \"hashtags\": [], \n",
      "        \"urls\": [\n",
      "            {\n",
      "                \"url\": \"https://t.co/2X35rkAAZE\", \n",
      "                \"indices\": [\n",
      "                    116, \n",
      "                    139\n",
      "                ], \n",
      "                \"expanded_url\": \"http://fb.me/1dQjaNxPz\", \n",
      "                \"display_url\": \"fb.me/1dQjaNxPz\"\n",
      "            }\n",
      "        ]\n",
      "    }, \n",
      "    \"in_reply_to_screen_name\": null, \n",
      "    \"id_str\": \"910822593783062529\", \n",
      "    \"retweet_count\": 0, \n",
      "    \"in_reply_to_user_id\": null, \n",
      "    \"favorited\": false, \n",
      "    \"user\": {\n",
      "        \"follow_request_sent\": false, \n",
      "        \"has_extended_profile\": false, \n",
      "        \"profile_use_background_image\": true, \n",
      "        \"time_zone\": null, \n",
      "        \"id\": 271867386, \n",
      "        \"default_profile\": false, \n",
      "        \"verified\": false, \n",
      "        \"profile_text_color\": \"333333\", \n",
      "        \"profile_image_url_https\": \"https://pbs.twimg.com/profile_images/2387730001/96rs9r9bjpg0g98sldbe_normal.jpeg\", \n",
      "        \"profile_sidebar_fill_color\": \"DDEEF6\", \n",
      "        \"is_translator\": false, \n",
      "        \"geo_enabled\": false, \n",
      "        \"entities\": {\n",
      "            \"description\": {\n",
      "                \"urls\": []\n",
      "            }\n",
      "        }, \n",
      "        \"followers_count\": 39, \n",
      "        \"protected\": false, \n",
      "        \"id_str\": \"271867386\", \n",
      "        \"default_profile_image\": false, \n",
      "        \"listed_count\": 0, \n",
      "        \"lang\": \"fr\", \n",
      "        \"utc_offset\": null, \n",
      "        \"statuses_count\": 2141, \n",
      "        \"description\": \"\", \n",
      "        \"friends_count\": 73, \n",
      "        \"profile_link_color\": \"0084B4\", \n",
      "        \"profile_image_url\": \"http://pbs.twimg.com/profile_images/2387730001/96rs9r9bjpg0g98sldbe_normal.jpeg\", \n",
      "        \"notifications\": false, \n",
      "        \"profile_background_image_url_https\": \"https://pbs.twimg.com/profile_background_images/601567619/5yef15u8o739wg52gw9a.jpeg\", \n",
      "        \"profile_background_color\": \"C0DEED\", \n",
      "        \"profile_background_image_url\": \"http://pbs.twimg.com/profile_background_images/601567619/5yef15u8o739wg52gw9a.jpeg\", \n",
      "        \"name\": \"Herr Mobio\", \n",
      "        \"is_translation_enabled\": false, \n",
      "        \"profile_background_tile\": false, \n",
      "        \"favourites_count\": 0, \n",
      "        \"screen_name\": \"mabogust59\", \n",
      "        \"url\": null, \n",
      "        \"created_at\": \"Fri Mar 25 10:16:34 +0000 2011\", \n",
      "        \"contributors_enabled\": false, \n",
      "        \"location\": \"Songon Agban\", \n",
      "        \"profile_sidebar_border_color\": \"C0DEED\", \n",
      "        \"translator_type\": \"none\", \n",
      "        \"following\": false\n",
      "    }, \n",
      "    \"geo\": null, \n",
      "    \"in_reply_to_user_id_str\": null, \n",
      "    \"possibly_sensitive\": false, \n",
      "    \"lang\": \"fr\", \n",
      "    \"created_at\": \"Thu Sep 21 11:06:43 +0000 2017\", \n",
      "    \"in_reply_to_status_id_str\": null, \n",
      "    \"place\": null, \n",
      "    \"metadata\": {\n",
      "        \"iso_language_code\": \"fr\", \n",
      "        \"result_type\": \"recent\"\n",
      "    }\n",
      "}\n"
     ]
    }
   ],
   "source": [
    "print json.dumps(consulta1['statuses'][0],indent=4)"
   ]
  },
  {
   "cell_type": "markdown",
   "metadata": {
    "deletable": true,
    "editable": true
   },
   "source": [
    "Como es bastante incómodo trabajar con dos listas, una para cada consulta vamos a unir los tweets de ambas consultas en una únicar lista llamada tweets. ¿Cómo lo harías?"
   ]
  },
  {
   "cell_type": "code",
   "execution_count": 9,
   "metadata": {
    "collapsed": false,
    "deletable": true,
    "editable": true
   },
   "outputs": [
    {
     "name": "stdout",
     "output_type": "stream",
     "text": [
      "29\n"
     ]
    }
   ],
   "source": [
    "tweets=consulta1['statuses']+consulta2['statuses']\n",
    "print len(tweets)"
   ]
  },
  {
   "cell_type": "markdown",
   "metadata": {
    "deletable": true,
    "editable": true
   },
   "source": [
    "## Análisis de usuarios (Sesión I)"
   ]
  },
  {
   "cell_type": "markdown",
   "metadata": {
    "deletable": true,
    "editable": true
   },
   "source": [
    "Dentro de la estructura tenemos un campo interesante \"user\". Este elemento es una descripción del usuario que ha enviado el tweet en el momento en el que el tweet fue publicado. Tenemos la siguiente información relevante:\n",
    "- id: que es un long con el identificador del usuario.\n",
    "- name: es el nombre que se muestra en el perfil de twitter.\n",
    "- screen_name : es el nombre de la cuenta, es decir lo que generalmente va seguido de la @.\n",
    "- profile_image_url_https : es una URL a la imagen del pérfil del usuario en twitter.\n",
    "- statuses_count : es el número de tweets que ha publicado el usuario.\n",
    "- followers_count : es el número de seguidores que tiene el usuario.\n",
    "- friends_count : número de amigos del usuario.\n",
    "- created_at : fecha en la que se creo la cuenta.\n",
    "- lang : idioma en el que tiene configurada la cuenta de twitter.\n",
    "- location : lugar donde el usuario dice que es\n",
    "\n",
    "Un fichero CSV es un fichero tabulado donde organizamos la información en fichas y columnas de forma similar a una tabla. Cada línea del fichero es un registro y cada campo está delimitado por un caracter delimitador, como por ejemplo el punto y coma o la coma simple.\n",
    "\n",
    "Queremos crear un fichero CSV para almacenar la información de los usuarios. Para ello la estructura será:\n",
    "\n",
    "id ; name ; screen_name; profile_image; statuses ; followers; friends ; created_at ; lang ; location\n",
    "\n",
    "Recorre todos los tweets de las consultas y captura para cada usuario la información relevante que hemos mencionado anteriormente. Luego dale formato de línea para un fichero CSV y almacenalo en un fichero que llamaremos usarios .csv.\n",
    "\n",
    "Por ejemplo, para el tweet que hemos visto en la celda anterior la línea sería:\n",
    "\n",
    "271867386;Herr Mobio;mabogust59;https://pbs.twimg.com/profile_images/2387730001/96rs9r9bjpg0g98sldbe_normal.jpeg;2141;39;73;Fri Mar 25 10:16:34 +0000 2011;fr;Songon Agban"
   ]
  },
  {
   "cell_type": "code",
   "execution_count": 10,
   "metadata": {
    "collapsed": false,
    "deletable": true,
    "editable": true
   },
   "outputs": [],
   "source": [
    "def format_user_twitter(user):\n",
    "        linea=\"{0};{1};{2};{3};{4};{5};{6};{7};{8};{9}\\n\".format(user['id'],\n",
    "                                       user['name'].encode('utf-8'),\n",
    "                                       user['screen_name'].encode('utf-8'),\n",
    "                                       user['profile_image_url_https'],\n",
    "                                       user['statuses_count'],\n",
    "                                       user['followers_count'],\n",
    "                                       user['friends_count'],\n",
    "                                       user['created_at'],\n",
    "                                       user['lang'],\n",
    "                                       user['location'])\n",
    "        return linea\n",
    "f=open(\"usuarios.csv\",\"w\")\n",
    "f.write('id ; name ; screen_name; profile_image; statuses ; followers; friends ; created_at ; lang ; location\\n')\n",
    "for t in tweets:\n",
    "    user=t['user']\n",
    "    f.write(format_user_twitter(user))\n",
    "f.close()"
   ]
  },
  {
   "cell_type": "markdown",
   "metadata": {
    "deletable": true,
    "editable": true
   },
   "source": [
    "Una vez creada la tabla está bien para almacenar la información y trabajar con herramientas externas, pero no nos permite trabajar mucho con ella dentro de Python. Un modo más cómodo de trabajar sería si pudieramos crear una tabla que nos pemitierá acceder a los datos.\n",
    "\n",
    "Vamos a utilizar un diccionario para crear un hashmap. Crearemos tantos elementos como \"columnas\" habría en nuestra tabla y usaremos los nombres de las columnas como claves. Como valor crearemos una lista con los 29 valores de cada registro. De manera que si quisieramos saber el screen_name del segundo usuario de nuestra tabla haríamos:\n",
    "\n",
    "`usuarios['screen_name'][2]`\n",
    "\n",
    "como en una tabla.\n",
    "\n",
    "Crea este diccionario y llámalo usuarios."
   ]
  },
  {
   "cell_type": "code",
   "execution_count": 11,
   "metadata": {
    "collapsed": false,
    "deletable": true,
    "editable": true
   },
   "outputs": [
    {
     "data": {
      "text/plain": [
       "u'marbro14'"
      ]
     },
     "execution_count": 11,
     "metadata": {},
     "output_type": "execute_result"
    }
   ],
   "source": [
    "usuarios={  'id' : [t['user']['id'] for t in tweets ],\n",
    "            'screen_name' : [t['user']['screen_name'] for t in tweets ],\n",
    "            'profile_image' : [t['user']['screen_name'] for t in tweets ],\n",
    "            'statuses' : [t['user']['statuses_count'] for t in tweets ],\n",
    "            'followers' : [t['user']['followers_count'] for t in tweets ],\n",
    "            'friends' : [t['user']['friends_count'] for t in tweets ],\n",
    "            'created_at' : [t['user']['created_at'] for t in tweets ],\n",
    "            'lang' : [t['user']['lang'] for t in tweets ],\n",
    "            'location': [t['user']['location'] for t in tweets ]}"
   ]
  },
  {
   "cell_type": "code",
   "execution_count": null,
   "metadata": {
    "collapsed": true
   },
   "outputs": [],
   "source": [
    "usuarios['screen_name'][2]"
   ]
  },
  {
   "cell_type": "markdown",
   "metadata": {
    "collapsed": true,
    "deletable": true,
    "editable": true
   },
   "source": [
    "Vamos a crear una función que nos va a ayudar un poco. Esta función debe devolvernos el máximo en una lista, tanto el valor máximo como la posición de ese máximo en la lista. Llama a esta función maximo. "
   ]
  },
  {
   "cell_type": "code",
   "execution_count": 22,
   "metadata": {
    "collapsed": true
   },
   "outputs": [],
   "source": [
    "def maximo(l):\n",
    "    maximo=l[0]\n",
    "    for i in l:\n",
    "        if i> maximo:\n",
    "            maximo=i\n",
    "    return maximo, l.index(maximo)"
   ]
  },
  {
   "cell_type": "markdown",
   "metadata": {},
   "source": [
    "Vamos a conocer un poco mejor a los usuarios: ¿quién tiene más seguidores?¿quién ha publicado más tweets?¿quién tiene más tweets?. Usa la función maximo y la estructura para descubrirlo."
   ]
  },
  {
   "cell_type": "code",
   "execution_count": 24,
   "metadata": {
    "collapsed": false
   },
   "outputs": [
    {
     "name": "stdout",
     "output_type": "stream",
     "text": [
      "El usuario con más seguidores es JudyMcGuffey, con 4220 followers\n",
      "El usuario con más amigos es JudyMcGuffey, con 3557 amigos\n",
      "El usuario con más tweet ses KillingJokez, con 162702 tweets publicados\n"
     ]
    }
   ],
   "source": [
    "max_followers,pos_fol=maximo(usuarios['followers'])\n",
    "print \"El usuario con más seguidores es {0}, con {1} followers\".format(usuarios['screen_name'][pos_fol],max_followers)\n",
    "max_friends,pos_fr=maximo(usuarios['friends'])\n",
    "print \"El usuario con más amigos es {0}, con {1} amigos\".format(usuarios['screen_name'][pos_fr],max_friends)\n",
    "max_status,pos_st=maximo(usuarios['statuses'])\n",
    "print \"El usuario con más tweet ses {0}, con {1} tweets publicados\".format(usuarios['screen_name'][pos_st],max_status)\n"
   ]
  },
  {
   "cell_type": "markdown",
   "metadata": {},
   "source": [
    "Igual que hemos realizado la función de maximo, define la función de mínimo y comprueba quienes son los que tiene menos amigos, seguidores y publicaciones."
   ]
  },
  {
   "cell_type": "code",
   "execution_count": 69,
   "metadata": {
    "collapsed": true
   },
   "outputs": [],
   "source": [
    "def minimo(l):\n",
    "    minimo=l[0]\n",
    "    for i in l:\n",
    "        if i<minimo:\n",
    "            minimo=i\n",
    "    return minimo, l.index(minimo)"
   ]
  },
  {
   "cell_type": "markdown",
   "metadata": {
    "deletable": true,
    "editable": true
   },
   "source": [
    "Vamo a aprovechar una de las principales ventajas de python para comprobar tus resultados. Sólo tienes que ejecutar la siguiente celda para ver un gráfico con los datos de los usuarios"
   ]
  },
  {
   "cell_type": "code",
   "execution_count": 56,
   "metadata": {
    "collapsed": false,
    "deletable": true,
    "editable": true
   },
   "outputs": [
    {
     "data": {
      "text/plain": [
       "array([<matplotlib.axes._subplots.AxesSubplot object at 0x000000000D0C00B8>,\n",
       "       <matplotlib.axes._subplots.AxesSubplot object at 0x000000000D220C50>,\n",
       "       <matplotlib.axes._subplots.AxesSubplot object at 0x000000000D3306D8>], dtype=object)"
      ]
     },
     "execution_count": 56,
     "metadata": {},
     "output_type": "execute_result"
    },
    {
     "data": {
      "image/png": "[encoded data removed]",
      "text/plain": [
       "<matplotlib.figure.Figure at 0xd0caa58>"
      ]
     },
     "metadata": {},
     "output_type": "display_data"
    }
   ],
   "source": [
    "import matplotlib.pyplot as plt\n",
    "import pandas as pd\n",
    "%matplotlib inline  \n",
    "\n",
    "df=pd.DataFrame({'Seguidores':usuarios['followers'],'Amigos':usuarios['friends'],'Tweets':usuarios['statuses']},index=usuarios['screen_name'])\n",
    "df.plot(kind='bar',subplots=True, figsize=(10,20))"
   ]
  },
  {
   "cell_type": "markdown",
   "metadata": {
    "collapsed": true,
    "deletable": true,
    "editable": true
   },
   "source": [
    "Otro campo interesante es el campo de fecha. ¿Quién lleva más tiempo en Twitter y quién menos?. Lo primero para operar con fechas es que debemos transformar la lista de fechas con objetos DateTime. Crea una función que lo cambie y aplicaselo al array."
   ]
  },
  {
   "cell_type": "code",
   "execution_count": 63,
   "metadata": {
    "collapsed": false
   },
   "outputs": [],
   "source": [
    "import datetime\n",
    "usuarios['created_at']=map(lambda x: datetime.datetime.strptime(x,\"%a %b %d %H:%M:%S +0000 %Y\") ,usuarios['created_at'])"
   ]
  },
  {
   "cell_type": "code",
   "execution_count": 66,
   "metadata": {
    "collapsed": false
   },
   "outputs": [
    {
     "name": "stdout",
     "output_type": "stream",
     "text": [
      "2011-03-25 10:16:34 <type 'datetime.datetime'>\n"
     ]
    }
   ],
   "source": [
    "#si lo hemos hecho correctamente el tipo de cada elementos es una fecha\n",
    "print usuarios['created_at'][0], type(usuarios['created_at'][0])"
   ]
  },
  {
   "cell_type": "markdown",
   "metadata": {},
   "source": [
    "¿Si usamos máximo nos devolverá el usuario que lleva más tiempo en Twitter?¿O nos lo dará minimo?. ¡Compruebalo!"
   ]
  },
  {
   "cell_type": "code",
   "execution_count": 70,
   "metadata": {
    "collapsed": false
   },
   "outputs": [
    {
     "name": "stdout",
     "output_type": "stream",
     "text": [
      "2017-08-15 19:10:50 TimothyWVann1\n",
      "2008-08-29 21:28:11 garak99\n"
     ]
    }
   ],
   "source": [
    "max_tiempo,pos=maximo(usuarios['created_at'])\n",
    "print max_tiempo, usuarios['screen_name'][pos]\n",
    "min_tiempo,pos_m=minimo(usuarios['created_at'])\n",
    "print min_tiempo, usuarios['screen_name'][pos_m]"
   ]
  },
  {
   "cell_type": "markdown",
   "metadata": {},
   "source": [
    "Por último, hemos visto que existe un campo lang, que indica la el idioma. ¿Cuántos idiomas distintos hemos visto?¿Cuántos usuarios distintos tenemos por cada idioma?. Crear una lista de tuplas, donde cada tupla sea un idioma y el correspondiente número de usuarios. Llama a esta lista lista_idiomas."
   ]
  },
  {
   "cell_type": "code",
   "execution_count": 73,
   "metadata": {
    "collapsed": false
   },
   "outputs": [
    {
     "name": "stdout",
     "output_type": "stream",
     "text": [
      "[(u'fr', 1), (u'en', 27), (u'nl', 1)]\n"
     ]
    }
   ],
   "source": [
    "idiomas={}\n",
    "for i in usuarios['lang']:\n",
    "    if idiomas.has_key(i):\n",
    "        idiomas[i]=idiomas[i]+1\n",
    "    else:\n",
    "        idiomas[i]=1\n",
    "        \n",
    "lista_idiomas=[(k,idiomas[k]) for k in idiomas.keys()]\n"
   ]
  },
  {
   "cell_type": "code",
   "execution_count": 74,
   "metadata": {
    "collapsed": false
   },
   "outputs": [
    {
     "name": "stdout",
     "output_type": "stream",
     "text": [
      "[(u'fr', 1), (u'en', 27), (u'nl', 1)]\n"
     ]
    }
   ],
   "source": [
    "print lista_idiomas"
   ]
  },
  {
   "cell_type": "code",
   "execution_count": null,
   "metadata": {
    "collapsed": true
   },
   "outputs": [],
   "source": []
  }
 ],
 "metadata": {
  "anaconda-cloud": {},
  "kernelspec": {
   "display_name": "Python [default]",
   "language": "python",
   "name": "python2"
  },
  "language_info": {
   "codemirror_mode": {
    "name": "ipython",
    "version": 2
   },
   "file_extension": ".py",
   "mimetype": "text/x-python",
   "name": "python",
   "nbconvert_exporter": "python",
   "pygments_lexer": "ipython2",
   "version": "2.7.12"
  }
 },
 "nbformat": 4,
 "nbformat_minor": 1
}
