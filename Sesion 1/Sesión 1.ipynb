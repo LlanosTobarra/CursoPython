{
 "cells": [
  {
   "cell_type": "markdown",
   "metadata": {
    "deletable": true,
    "editable": true,
    "nbpresent": {
     "id": "49e5850e-2ef1-44e4-9870-1173b5df75bf"
    },
    "slideshow": {
     "slide_type": "slide"
    }
   },
   "source": [
    "# Introducción a Python"
   ]
  },
  {
   "cell_type": "markdown",
   "metadata": {
    "deletable": true,
    "editable": true,
    "nbpresent": {
     "id": "f33b3f51-f341-40ea-a266-4b2f48734be8"
    },
    "slideshow": {
     "slide_type": "slide"
    }
   },
   "source": [
    "## Comentarios\n",
    "\n",
    "Es frecuente que conforme programemos querramos añadir comentarios para documentar nuestro código. En Python los comentarios sencillos incluidos en cualquier parte del código comienzan con #.\n",
    "\n",
    "Si vamos a realizar un comentario más largo, que se extienda por varias líneas, usamos tres comillas simples para iniciar el comentario y lo cerramos con tres comillas simples. Estos comentarios se utilizan para documentar el código de forma \"oficial\". Veremos su utilidad más adelante.\n",
    "\n",
    "Todos los comentarios son ignorados a la hora de compilar el programa."
   ]
  },
  {
   "cell_type": "code",
   "execution_count": 17,
   "metadata": {
    "collapsed": false,
    "deletable": true,
    "editable": true,
    "nbpresent": {
     "id": "39dd6713-ed05-49a4-bd29-85a69c5a6d5f"
    },
    "slideshow": {
     "slide_type": "fragment"
    }
   },
   "outputs": [],
   "source": [
    "#comentario sencillo"
   ]
  },
  {
   "cell_type": "markdown",
   "metadata": {
    "deletable": true,
    "editable": true,
    "nbpresent": {
     "id": "2a0a7bbd-7c97-4bd0-9b1e-1571d227cbe1"
    },
    "slideshow": {
     "slide_type": "slide"
    }
   },
   "source": [
    "## Variables\n",
    "Las variables son zonas de memoria donde vamos a almacenar nuestros datos temporalmente durante la ejecución del programa. Como ya hemos vistos en Python las variables se definen conforme son necesarias, sin necesidad de una definición formal donde se indique el tipo de datos de antemano. Python se encarga de determinar el tipo de datos de la variable en tiempo de ejecución. \n",
    "Si queremo saber el tipo de una variable podemos usar la función **type()**.\n",
    "Por ejemplo"
   ]
  },
  {
   "cell_type": "code",
   "execution_count": 9,
   "metadata": {
    "collapsed": false,
    "deletable": true,
    "editable": true,
    "nbpresent": {
     "id": "d1fd97c7-b4d9-4ebb-b3f4-994b04312cb7"
    },
    "slideshow": {
     "slide_type": "fragment"
    }
   },
   "outputs": [
    {
     "name": "stdout",
     "output_type": "stream",
     "text": [
      "2 5\n"
     ]
    }
   ],
   "source": [
    "a=2\n",
    "b=a+3\n",
    "print a,b"
   ]
  },
  {
   "cell_type": "code",
   "execution_count": 10,
   "metadata": {
    "collapsed": false,
    "deletable": true,
    "editable": true,
    "nbpresent": {
     "id": "8a8839a9-0c68-43f9-b8d1-45bfaf590f28"
    },
    "slideshow": {
     "slide_type": "fragment"
    }
   },
   "outputs": [
    {
     "data": {
      "text/plain": [
       "int"
      ]
     },
     "execution_count": 10,
     "metadata": {},
     "output_type": "execute_result"
    }
   ],
   "source": [
    "type(a)"
   ]
  },
  {
   "cell_type": "code",
   "execution_count": 11,
   "metadata": {
    "collapsed": false,
    "deletable": true,
    "editable": true,
    "nbpresent": {
     "id": "51346303-0678-4ae6-9cb8-90b98617d10b"
    },
    "slideshow": {
     "slide_type": "fragment"
    }
   },
   "outputs": [
    {
     "name": "stdout",
     "output_type": "stream",
     "text": [
      "Hola mundo, ¿que tal?\n"
     ]
    }
   ],
   "source": [
    "a=\"Hola mundo,\"\n",
    "b=\" ¿que tal?\"\n",
    "print a+b"
   ]
  },
  {
   "cell_type": "code",
   "execution_count": 12,
   "metadata": {
    "collapsed": false,
    "deletable": true,
    "editable": true,
    "nbpresent": {
     "id": "0101233c-37d8-4523-887e-9e73fcd9c06d"
    },
    "slideshow": {
     "slide_type": "fragment"
    }
   },
   "outputs": [
    {
     "data": {
      "text/plain": [
       "str"
      ]
     },
     "execution_count": 12,
     "metadata": {},
     "output_type": "execute_result"
    }
   ],
   "source": [
    "type(a)"
   ]
  },
  {
   "cell_type": "markdown",
   "metadata": {
    "deletable": true,
    "editable": true,
    "nbpresent": {
     "id": "ea62b48a-8ed4-4a8b-84ff-26bab872b7e3"
    },
    "slideshow": {
     "slide_type": "subslide"
    }
   },
   "source": [
    "Como hemos visto el tipo de datos de a y b ha cambiado a lo largo de la ejecución de las celdas, según ha cambiado el valor que le hemos asignado.\n",
    "Hemos de tener cuidado con esta característica de Python, ya que los errores derivados de los tipos de datos aparecen en el momento de la ejecución, no en tiempo de compilación. Por ejemplo:"
   ]
  },
  {
   "cell_type": "code",
   "execution_count": 13,
   "metadata": {
    "collapsed": false,
    "deletable": true,
    "editable": true,
    "nbpresent": {
     "id": "b5350718-9f24-4fef-bdb1-d9e8ae0213c3"
    },
    "slideshow": {
     "slide_type": "fragment"
    }
   },
   "outputs": [
    {
     "data": {
      "text/plain": [
       "15"
      ]
     },
     "execution_count": 13,
     "metadata": {},
     "output_type": "execute_result"
    }
   ],
   "source": [
    "a+3"
   ]
  },
  {
   "cell_type": "markdown",
   "metadata": {
    "deletable": true,
    "editable": true,
    "nbpresent": {
     "id": "ed2c21ae-6bd4-463b-9b1b-90e7f0bcbb0a"
    },
    "slideshow": {
     "slide_type": "subslide"
    }
   },
   "source": [
    "Además en Python no tenemos mecanismos para crear constantes (variables cuyo valor una vez definido no varia a lo largo del programa). Por convención general, cuando queremos definir una variable se suele crear con el nombre en mayúsculas y queda como responsabilidad del programador no modificar su valor a lo largo del programa."
   ]
  },
  {
   "cell_type": "code",
   "execution_count": null,
   "metadata": {
    "collapsed": true,
    "deletable": true,
    "editable": true,
    "nbpresent": {
     "id": "dc3033df-7bda-4ba2-b012-e2be5395e2bc"
    },
    "slideshow": {
     "slide_type": "fragment"
    }
   },
   "outputs": [],
   "source": [
    "CONSTANTE_PI=3.1416"
   ]
  },
  {
   "cell_type": "markdown",
   "metadata": {
    "deletable": true,
    "editable": true,
    "nbpresent": {
     "id": "7e9210f8-fab8-4e75-8780-eca6f8e1185e"
    },
    "slideshow": {
     "slide_type": "slide"
    }
   },
   "source": [
    "En Python nos encontramos con tres grandes grupos de datos: cadenas,números y booleanos. Veremos cada uno de ellos en detalle a continuación.\n",
    "\n",
    "### Cadenas\n",
    "\n",
    "Las cadenas en Python podemos escribirlas tanto con comillas simples como comillas dobles. "
   ]
  },
  {
   "cell_type": "code",
   "execution_count": 25,
   "metadata": {
    "collapsed": false,
    "deletable": true,
    "editable": true,
    "nbpresent": {
     "id": "8844de57-ceea-4eb9-b30e-975bfb86b54a"
    },
    "slideshow": {
     "slide_type": "fragment"
    }
   },
   "outputs": [
    {
     "name": "stdout",
     "output_type": "stream",
     "text": [
      "Esto es una cadena Esto también es una cadena\n"
     ]
    }
   ],
   "source": [
    "cadena='Esto es una cadena.'\n",
    "cadena2=\"Esto también es una cadena.\"\n",
    "print cadena, cadena2"
   ]
  },
  {
   "cell_type": "markdown",
   "metadata": {
    "deletable": true,
    "editable": true,
    "nbpresent": {
     "id": "5b4be04c-ce11-4700-98c4-8599bb15132f"
    },
    "slideshow": {
     "slide_type": "subslide"
    }
   },
   "source": [
    "Cuando queremos escribir cadenas que ocupan más de una línea usamos tres comillas dobles o simples al comienzo de la cadena:"
   ]
  },
  {
   "cell_type": "code",
   "execution_count": 26,
   "metadata": {
    "collapsed": false,
    "deletable": true,
    "editable": true,
    "nbpresent": {
     "id": "103216ed-755c-4bad-a504-b7df8048ad68"
    },
    "slideshow": {
     "slide_type": "fragment"
    }
   },
   "outputs": [
    {
     "name": "stdout",
     "output_type": "stream",
     "text": [
      "     \n",
      "        Volverán las oscuras golondrinas\n",
      "        en tu balcón sus nidos a colgar,\n",
      "        y otra vez con el ala a sus cristales\n",
      "        jugando llamarán.\n",
      "        \n"
     ]
    }
   ],
   "source": [
    "poema = \"\"\"     \n",
    "        Volverán las oscuras golondrinas\n",
    "        en tu balcón sus nidos a colgar,\n",
    "        y otra vez con el ala a sus cristales\n",
    "        jugando llamarán.\n",
    "        \"\"\"\n",
    "print poema"
   ]
  },
  {
   "cell_type": "markdown",
   "metadata": {
    "deletable": true,
    "editable": true,
    "nbpresent": {
     "id": "a58cf2da-3c80-443b-8c7a-8b0d33851551"
    },
    "slideshow": {
     "slide_type": "subslide"
    }
   },
   "source": [
    "Dentro de las cadenas podemos utilizas caracteres especiales como `\\n` que representa el salto de línea o `\\t` que inserta un tabulador al mostrar la cadena por pantalla. \n",
    "\n",
    "Una cadena puede estar precedida por la letra u (unicode) o por la letra r (del inglés raw, cruda). Las cadenas raw se caracterizan porque los carecteres escapados (`\\n \\t`) no se sustituyen por sus contrapartidas. Esto es especialmente útil para la expresiones regulares."
   ]
  },
  {
   "cell_type": "code",
   "execution_count": 43,
   "metadata": {
    "collapsed": false,
    "deletable": true,
    "editable": true,
    "nbpresent": {
     "id": "f496b5be-1e8d-4add-94fb-9ea223c8332c"
    },
    "slideshow": {
     "slide_type": "fragment"
    }
   },
   "outputs": [
    {
     "name": "stdout",
     "output_type": "stream",
     "text": [
      "\\t Fin de la línea.\\n Comenzamos algo nuevo.\n",
      "\t Fin de la línea. \n",
      " Comenzamos algo nuevo.\n"
     ]
    }
   ],
   "source": [
    "raw=r'\\t Fin de la línea.\\n Comenzamos algo nuevo.'\n",
    "normal=\"\\t Fin de la línea. \\n Comenzamos algo nuevo.\"\n",
    "print raw\n",
    "print normal"
   ]
  },
  {
   "cell_type": "markdown",
   "metadata": {
    "deletable": true,
    "editable": true,
    "nbpresent": {
     "id": "64eed336-0786-4546-871d-a95145f2c954"
    },
    "slideshow": {
     "slide_type": "subslide"
    }
   },
   "source": [
    "Por otra parte, las cadenas unicode son cadenas codificadas mediante UTF-8 que nos permiten escribir signos de puntuación o la letra ñ del castellano. Podemos convertir fácilmente la codificación de una cadena binaria en Unicode con la función **Unicode()**."
   ]
  },
  {
   "cell_type": "code",
   "execution_count": 1,
   "metadata": {
    "collapsed": false,
    "deletable": true,
    "editable": true,
    "nbpresent": {
     "id": "2ba5194a-d261-489e-ad0b-a7062303e07d"
    },
    "slideshow": {
     "slide_type": "fragment"
    }
   },
   "outputs": [
    {
     "name": "stdout",
     "output_type": "stream",
     "text": [
      " cadena unicode �\n",
      " cadena unicode ñ\n"
     ]
    }
   ],
   "source": [
    "#una cadena normal de Python\n",
    "binstring = ' cadena unicode \\xf1'\n",
    "print binstring\n",
    "#cadena unicode\n",
    "unicodestring=u' cadena unicode \\xf1'\n",
    "print unicodestring"
   ]
  },
  {
   "cell_type": "code",
   "execution_count": 11,
   "metadata": {
    "collapsed": false,
    "deletable": true,
    "editable": true,
    "nbpresent": {
     "id": "1d64f825-b2f6-4472-86a4-4a8a42f1bea8"
    },
    "scrolled": true,
    "slideshow": {
     "slide_type": "fragment"
    }
   },
   "outputs": [
    {
     "name": "stdout",
     "output_type": "stream",
     "text": [
      " Ǝ cadena unicode ñ\n"
     ]
    }
   ],
   "source": [
    "#para transformar una cadena unicode a una codificación tal como utf-8 para binarios usamos encode\n",
    "utfstring=unicodestring.encode('utf-8')\n",
    "print utfstring"
   ]
  },
  {
   "cell_type": "code",
   "execution_count": 13,
   "metadata": {
    "collapsed": false,
    "deletable": true,
    "editable": true,
    "nbpresent": {
     "id": "030caea0-91ec-42bf-a5c5-10a2f77b4c10"
    },
    "slideshow": {
     "slide_type": "fragment"
    }
   },
   "outputs": [
    {
     "data": {
      "text/plain": [
       "u' \\u018e cadena unicode \\xf1'"
      ]
     },
     "execution_count": 13,
     "metadata": {},
     "output_type": "execute_result"
    }
   ],
   "source": [
    "#el camino inverso lo realizamos con unicode\n",
    "unicode(utfstring, 'utf-8')"
   ]
  },
  {
   "cell_type": "markdown",
   "metadata": {
    "deletable": true,
    "editable": true,
    "nbpresent": {
     "id": "7fe5d3d7-6757-4d2e-a732-147b00d66e96"
    },
    "slideshow": {
     "slide_type": "subslide"
    }
   },
   "source": [
    "Mencionar que con el operador **`+`** podemos concatenar dos cadenas. ¡OJO! Sólo funciona con strings.\n",
    "\n",
    "Con las cadenas podemos utilizar una serie de funciones que nos serán muy útiles a la hora de trabajar con ellas, donde s es una cadena o una variable que contiene una cadena:\n",
    "\n",
    "\n",
    "| Función | Descripción | Ejemplo |\n",
    "|---|---|---|\n",
    "|s.lower()| Convierte todas las letras de una cadena a minúsculas | `\"BienVenidos\".lower() #la salida es bienvenidos`|\n",
    "|s.upper()|Convierte todas las letras de una cadena a mayúsculas | ` \"minúsculas\".upper() # la salida es MINÚSCULAS`|\n",
    "|s.strip()| Nos devuelve una cadena donde se han eliminado los caracters blancos iniciales y finales | ` \"    cadena limpia   \".strip() la salida es 'cadena limpia'`|\n",
    "| s.isalpha () | Nos indica si es una cadena que contine solo letras | ` \"letras\".isalpha() #la salida sería TRUE`|\n",
    "| s.isdigit() | Nos indica si la cadena se trata de un número convertido a cadena | ` \"1234\".isdigit() #la salida sería TRUE`|\n",
    "| s.startswith()/s.endswith | Indica si la cadena comienza o termina con un prefijo/subfijo concreto| ` \"submarino\".startswith('sub') #la salida sería TRUE`|\n",
    "| s.find() | Localiza una subcadena dentro de la cadena y devuelve la primera posición | `\"Juan Garcia\".find('ua') # la salida sería 1.`|\n",
    "|s.replace('original','susitituo')| Reemplaza en la cadena la subcadena 'orignal' por la cadena 'sustituto' | ` \"cadena sustituye\".replace('sustituye','nuevo') # la salida es 'cadena nuevo'`|\n",
    "|s.split('delimitador') | Divide una cadena en tantas cadenas separadas por un delimitador | ` \"c1,c2,c3\".split(',') # la salida seria ['c1','c2','c3']`|\n",
    "|s.join(lista) | Funciona de forma contraría a split, une una lista de cadenas usando la cadena que lo invoca como delimintador | ` ','.join(['c1','c2','c3']) #la salida seria \"c1,c2,c3\"`|"
   ]
  },
  {
   "cell_type": "markdown",
   "metadata": {
    "deletable": true,
    "editable": true,
    "nbpresent": {
     "id": "d8c25ec1-f083-4992-87d3-ae657596b574"
    },
    "slideshow": {
     "slide_type": "subslide"
    }
   },
   "source": [
    "Como ya hemos visto la función **print** nos permite mostrar pon pantalla el valor de una variable. Realmente print recibe como parámetro una cadena. En caso de recibir otro tipo de datos lo transforma automáticamente a cadena.\n",
    "\n",
    "En ocasiones nos va a interesar imprimir más de una variable en la misma línea. Podemos apoyarnos en la función **format()** para ese caso. Por ejemplo, supongamos que tenemos dos variables `uno`y `dos` y queremos mostrarlas en la misma línea:\n"
   ]
  },
  {
   "cell_type": "code",
   "execution_count": 34,
   "metadata": {
    "collapsed": false,
    "deletable": true,
    "editable": true,
    "nbpresent": {
     "id": "89d84f64-cc8c-44e1-936a-e253357e26fa"
    },
    "slideshow": {
     "slide_type": "fragment"
    }
   },
   "outputs": [
    {
     "name": "stdout",
     "output_type": "stream",
     "text": [
      "El valor de uno es 15 y el valor de dos es 20\n"
     ]
    }
   ],
   "source": [
    "uno=15\n",
    "dos=20\n",
    "print \"El valor de uno es {0} y el valor de dos es {1}\".format(uno,dos)"
   ]
  },
  {
   "cell_type": "markdown",
   "metadata": {
    "deletable": true,
    "editable": true,
    "nbpresent": {
     "id": "6a73a80b-610d-4970-ab41-faf859c956ea"
    },
    "slideshow": {
     "slide_type": "subslide"
    }
   },
   "source": [
    "Como vemos en la cadena añadimos {} seguido de un número. Luego añadimos al final de la cadena la llamada a format que incluye en sus parentesisi una lista de variables. El número contenido entre los paréntesis indica la posición de la variable que se tiene que mostrar en ese punto de la cadena en la lista de variables de format.\n",
    "\n",
    "Podríamos usar más de una vez {número} para mostrar en la misma cadena la misma variable más de una vez:"
   ]
  },
  {
   "cell_type": "code",
   "execution_count": 23,
   "metadata": {
    "collapsed": false,
    "deletable": true,
    "editable": true,
    "nbpresent": {
     "id": "e18ab73f-a604-46a8-9ab6-2c0b1b23a5bf"
    },
    "slideshow": {
     "slide_type": "fragment"
    }
   },
   "outputs": [
    {
     "name": "stdout",
     "output_type": "stream",
     "text": [
      "El valor de uno es 15, el valor de dos es 20. Como uno vale 15 es cinco unidades menor que dos.\n"
     ]
    }
   ],
   "source": [
    "print \"El valor de uno es {0}, el valor de dos es {1}. Como uno vale {0} es cinco unidades menor que dos.\".format(uno,dos)"
   ]
  },
  {
   "cell_type": "markdown",
   "metadata": {
    "deletable": true,
    "editable": true,
    "nbpresent": {
     "id": "aaffff30-abef-4419-a72a-80326cfae94e"
    },
    "slideshow": {
     "slide_type": "slide"
    }
   },
   "source": [
    "### Números\n",
    "\n",
    "Dentro de los **números** disponemos de:\n",
    "\n",
    "| Tipo | Definición | Ejemplo      |\n",
    "|------|----------- |--------------|\n",
    "|Entero| Simple | `a=12`|\n",
    "|Long| Añadir L al final| `a=123456L` |\n",
    "|Octal | Añadir 0 al principio | `octal=027`  |\n",
    "|Hexadecimal | Añadir 0x al principio | `hex=0xFA12`|\n",
    "|Decimal | Añadiendo un punto | `dec=3.1416`|\n",
    "|Coma flotante | Definición cientifica | `cf=.12e-3`|\n",
    "|Complejos | Describiendo parte entera y real | `complejo= 1.2+5j`|\n"
   ]
  },
  {
   "cell_type": "code",
   "execution_count": 12,
   "metadata": {
    "collapsed": true,
    "deletable": true,
    "editable": true,
    "nbpresent": {
     "id": "06ef45d1-efe4-4d5b-9de6-2c3c458ed7bb"
    },
    "slideshow": {
     "slide_type": "subslide"
    }
   },
   "outputs": [],
   "source": [
    "#ejemplo de números\n",
    "a=-12\n",
    "b=56\n",
    "l=123545L\n",
    "octal=0234\n",
    "hexadecimal=0xFA12\n",
    "decimal=3.1416\n",
    "cientifico=1.2e-13\n",
    "complejo=1.3+3j"
   ]
  },
  {
   "cell_type": "markdown",
   "metadata": {
    "deletable": true,
    "editable": true,
    "nbpresent": {
     "id": "85bc5507-53d0-4df4-82f0-ffd18df654a5"
    },
    "slideshow": {
     "slide_type": "subslide"
    }
   },
   "source": [
    "---\n",
    "*Ejercicio*: comprueba los tipos de datos de las variables anteriores utilizando la función type en la siguiente celda."
   ]
  },
  {
   "cell_type": "code",
   "execution_count": null,
   "metadata": {
    "collapsed": true,
    "deletable": true,
    "editable": true,
    "nbpresent": {
     "id": "31928060-1692-46a7-9361-2d401743bc00"
    }
   },
   "outputs": [],
   "source": []
  },
  {
   "cell_type": "markdown",
   "metadata": {
    "deletable": true,
    "editable": true,
    "nbpresent": {
     "id": "9f473192-5d39-4d2b-9399-2ffcd8aae965"
    },
    "slideshow": {
     "slide_type": "subslide"
    }
   },
   "source": [
    "---\n",
    "Operadores aritméticos:\n",
    "\n",
    "| Operador | Descripción | Ejemplo|\n",
    "|---|---|---|\n",
    "|+| Suma|`a = 10 + 5 #a es 15`|\n",
    "|-| Resta |`a = 12 - 7     # a es 5 `|\n",
    "|-| Negación |`           a = -5          #a es -5`| \n",
    "|`*`|  Multiplicación |`     a = 7 * 5      # a es 35 `|\n",
    "|`**`|        Exponente   |`        a = 2 ** 3    #  a es 8`| \n",
    "|`/` |        División   |`         a = 12.5 / 2  #  a es 6.25 `|\n",
    "|`//`|       División entera |`    a = 12.5 / 2   # a es 6.0 `|\n",
    "|`%` |        Módulo     |`         a = 27 % 4    #  a es 3`|\n",
    "\n",
    "\n",
    "Debemos tener en cuenta que para Python cualquier operación entre dos números de un tipo concreto debe devolver el resultado en ese tipo. Por ejemplo, si hacemos una división entre enteros el resultado será un número entero, como en el siguiente ejemplo:"
   ]
  },
  {
   "cell_type": "code",
   "execution_count": 17,
   "metadata": {
    "collapsed": false,
    "deletable": true,
    "editable": true,
    "nbpresent": {
     "id": "d9a7b231-b5e2-4aeb-8497-e04ff631efe0"
    },
    "slideshow": {
     "slide_type": "fragment"
    }
   },
   "outputs": [
    {
     "data": {
      "text/plain": [
       "1"
      ]
     },
     "execution_count": 17,
     "metadata": {},
     "output_type": "execute_result"
    }
   ],
   "source": [
    "3/2"
   ]
  },
  {
   "cell_type": "markdown",
   "metadata": {
    "deletable": true,
    "editable": true,
    "nbpresent": {
     "id": "71765e5e-139b-471a-b155-b4b1a9242ccb"
    },
    "slideshow": {
     "slide_type": "subslide"
    }
   },
   "source": [
    "Si queremos que el resultado contenga los decimales deberemos realizar una conversión de tipo con la función **float()** de algunos de los operandos. En caso de existir varios tipos de datos entre los operandos se elige el de mayor representación:"
   ]
  },
  {
   "cell_type": "code",
   "execution_count": 16,
   "metadata": {
    "collapsed": false,
    "deletable": true,
    "editable": true,
    "nbpresent": {
     "id": "6dcdf6df-89d9-4f5d-a0a5-d5e9a66933e9"
    },
    "slideshow": {
     "slide_type": "fragment"
    }
   },
   "outputs": [
    {
     "data": {
      "text/plain": [
       "1.5"
      ]
     },
     "execution_count": 16,
     "metadata": {},
     "output_type": "execute_result"
    }
   ],
   "source": [
    "float(3)/2"
   ]
  },
  {
   "cell_type": "code",
   "execution_count": 2,
   "metadata": {
    "collapsed": false,
    "deletable": true,
    "editable": true,
    "nbpresent": {
     "id": "349ba5fc-1f34-40c9-8090-7df832cef529"
    },
    "slideshow": {
     "slide_type": "subslide"
    }
   },
   "outputs": [
    {
     "name": "stdout",
     "output_type": "stream",
     "text": [
      "El circulo con radio 12.3, tiene un diámetro de 24.6, su longitud de área es 77.28336 y su área es 475.292664\n"
     ]
    }
   ],
   "source": [
    "#Ejemplo: cálculo del área y la longitud de la circunferencia\n",
    "radio=12.3\n",
    "diametro=radio*2\n",
    "pi=3.1416\n",
    "longitud=2*radio*pi\n",
    "area=pi*(radio**2)\n",
    "print \"El circulo con radio {0}, tiene un diámetro de {1}, su longitud de área es {2} y su área es {3}\".format(radio, diametro,longitud,area)"
   ]
  },
  {
   "cell_type": "markdown",
   "metadata": {
    "deletable": true,
    "editable": true,
    "nbpresent": {
     "id": "6a182d62-e035-4e21-83dd-da04d73225f0"
    },
    "slideshow": {
     "slide_type": "subslide"
    }
   },
   "source": [
    "---\n",
    "*Ejercicio*: El teorema de Pitágoras dice *En todo triángulo rectángulo el cuadrado de la hipotenusa es igual a la suma de los cuadrados de los catetos*, matemáticamente $a^2 +b^2 =c^2$\n",
    "\n",
    "Siendo `a=15` y `b=8`, calcula el valor de la hipotenusa (`c`) en la siguiente celda."
   ]
  },
  {
   "cell_type": "code",
   "execution_count": null,
   "metadata": {
    "collapsed": true,
    "deletable": true,
    "editable": true,
    "nbpresent": {
     "id": "18c7db2f-6c3d-4ab3-9efb-d3d4396cda6d"
    }
   },
   "outputs": [],
   "source": []
  },
  {
   "cell_type": "markdown",
   "metadata": {
    "deletable": true,
    "editable": true,
    "nbpresent": {
     "id": "033604e8-d5a4-41f7-a545-e05f6f75cfd1"
    },
    "slideshow": {
     "slide_type": "subslide"
    }
   },
   "source": [
    "---\n",
    "*Ejercicio*: Supongamos que disponemos de 100€ invertidos en un plazo fijo que rentan cada año un 5%. Es decir, después un año obtenemos 100+5% de 100=100x1.05=105€. Tras dos años sería 100x1.05x1.05=110.25. ¿Cuál será la cantidad de dinero acumulada tras 9 años?. Cálculalo con ayuda de Python en la siguiente celda."
   ]
  },
  {
   "cell_type": "code",
   "execution_count": null,
   "metadata": {
    "collapsed": true,
    "deletable": true,
    "editable": true,
    "nbpresent": {
     "id": "11806608-d5ba-4431-99e2-751b22afb8c1"
    }
   },
   "outputs": [],
   "source": []
  },
  {
   "cell_type": "markdown",
   "metadata": {
    "deletable": true,
    "editable": true,
    "nbpresent": {
     "id": "25f48ba0-f1aa-481c-9080-54e22664925e"
    },
    "slideshow": {
     "slide_type": "slide"
    }
   },
   "source": [
    "### Booleanos\n",
    "\n",
    "La variables booleanas sólo pueden tener dos valores: True (cierto) y False (falso). Este tipo de variables y las expresiones que se derivan de ellas son especialmente importante en las estructuras de control. Formalmente se consideran un subtipo de los números. Pero vamos a tratarlos a parte.\n",
    "\n",
    "Las operaciones fundamentales sobre booleanos son:\n",
    "\n",
    "| Operación | Descripción | Ejemplo |\n",
    "|---|---|---|\n",
    "|and| ¿se cumple a y b? | `r=True and False #r es False`|\n",
    "|or| ¿se cumple a ó b? | `r=True or False #r es True `|\n",
    "|not | Lo opuesto de a, No a | `r= not True #r es False`|\n",
    "\n",
    "Además, como ya hemos comentado, los booleanos son el resultado de muchas expresiones condicionales:\n",
    "\n",
    "|Operación | Descripción | Ejemplo|\n",
    "|---|---|---|\n",
    "|== | ¿son iguales a y b? | `5==3 # es False `|\n",
    "|!=| ¿son distintos a y b? | `5!=3 # es True `|\n",
    "| < | ¿es a menor que b? | `5 < 3 # es False `|\n",
    "|> | ¿es a mayor que b? | `5 > 3 # es True`|\n",
    "|<= | ¿es a menor o igual que b? | ` 3<=3 # es True `|\n",
    "|>=| ¿es a mayor o igual que b? | `5>=3 #es True `|\n"
   ]
  },
  {
   "cell_type": "markdown",
   "metadata": {
    "slideshow": {
     "slide_type": "slide"
    }
   },
   "source": [
    "## Fechas\n",
    "\n",
    "Python no tiene un tipo de datos básico para gestionar las fechas. Sin embargo es un tipo de datos muy común cuando analizamos datos. Así que es importante conocer como funciona. \n",
    "\n",
    "En Python tenemos dos librerías que nos ayudan a gestionar las fechas: `datetime` y `time`.\n",
    "\n",
    "El objeto `time` dentro de `datetime`se encarga de las horas"
   ]
  },
  {
   "cell_type": "code",
   "execution_count": 1,
   "metadata": {
    "collapsed": false,
    "slideshow": {
     "slide_type": "fragment"
    }
   },
   "outputs": [
    {
     "name": "stdout",
     "output_type": "stream",
     "text": [
      "01:02:03\n",
      "hora  : 1\n",
      "minutos: 2\n",
      "segundos 3\n",
      "microsegundos: 0\n",
      "tzinfo: None\n"
     ]
    }
   ],
   "source": [
    "import datetime\n",
    "#Creamos una fecha usando números\n",
    "t = datetime.time(1, 2, 3)\n",
    "print t\n",
    "print 'hora  :', t.hour\n",
    "print 'minutos:', t.minute\n",
    "print 'segundos', t.second\n",
    "print 'microsegundos:', t.microsecond\n",
    "print 'tzinfo:', t.tzinfo\n"
   ]
  },
  {
   "cell_type": "markdown",
   "metadata": {
    "slideshow": {
     "slide_type": "subslide"
    }
   },
   "source": [
    "Por otra parte con `datetime` también podemos gestionar los días. Para crear un fecha concreta usamos `date`. Si además queremos almancenar no sólo la fecha sino también la hora usamos `datetime`. La función `today` devuelve la fecha de hoy. Y podemos mostrarlo con diferentes formatos:"
   ]
  },
  {
   "cell_type": "code",
   "execution_count": 11,
   "metadata": {
    "collapsed": false,
    "slideshow": {
     "slide_type": "fragment"
    }
   },
   "outputs": [
    {
     "name": "stdout",
     "output_type": "stream",
     "text": [
      "d1: 2008-03-12\n",
      "d3: 2016-05-14 00:00:00\n",
      "d2: 2009-03-12\n",
      "2017-09-23\n",
      "ctime: Sat Sep 23 00:00:00 2017\n",
      "tupla: time.struct_time(tm_year=2017, tm_mon=9, tm_mday=23, tm_hour=0, tm_min=0, tm_sec=0, tm_wday=5, tm_yday=266, tm_isdst=-1)\n",
      "ordinal: 736595\n",
      "Año: 2017\n",
      "Mes : 9\n",
      "Día:  23\n"
     ]
    }
   ],
   "source": [
    "#creamos una fecha\n",
    "d1 = datetime.date(2008, 3, 12)\n",
    "#Creamos una fecha con hora\n",
    "d3= datetime.datetime(2016,5,14)\n",
    "print 'd1:', d1\n",
    "print 'd3:', d3\n",
    "#cambiamos el año\n",
    "d2 = d1.replace(year=2009)\n",
    "print 'd2:', d2\n",
    "#jugamos con la fecha de hoy\n",
    "today = datetime.date.today()\n",
    "print today\n",
    "print 'ctime:', today.ctime()\n",
    "print 'tupla:', today.timetuple()\n",
    "print 'ordinal:', today.toordinal()\n",
    "print 'Año:', today.year\n",
    "print 'Mes :', today.month\n",
    "print 'Día: ' , today.day"
   ]
  },
  {
   "cell_type": "markdown",
   "metadata": {
    "slideshow": {
     "slide_type": "subslide"
    }
   },
   "source": [
    "En ocasiones vamos  a querer trabajar con cierta aritmética entre las fechas, por ejemplo calculando desde una fecha determinada los días anteriores o posteriores. Para ello nos podemos apoyar en la función `timedelta`."
   ]
  },
  {
   "cell_type": "code",
   "execution_count": 5,
   "metadata": {
    "collapsed": false,
    "slideshow": {
     "slide_type": "fragment"
    }
   },
   "outputs": [
    {
     "name": "stdout",
     "output_type": "stream",
     "text": [
      "microsegundos: 0:00:00.000001\n",
      "millisegundos: 0:00:00.001000\n",
      "segundos     : 0:00:01\n",
      "minutos    : 0:01:00\n",
      "horas     : 1:00:00\n",
      "días       : 1 day, 0:00:00\n",
      "semanas       : 7 days, 0:00:00\n"
     ]
    }
   ],
   "source": [
    "print \"microsegundos:\", datetime.timedelta(microseconds=1)\n",
    "print \"millisegundos:\", datetime.timedelta(milliseconds=1)\n",
    "print \"segundos     :\", datetime.timedelta(seconds=1)\n",
    "print \"minutos    :\", datetime.timedelta(minutes=1)\n",
    "print \"horas     :\", datetime.timedelta(hours=1)\n",
    "print \"días       :\", datetime.timedelta(days=1)\n",
    "print \"semanas       :\", datetime.timedelta(weeks=1)"
   ]
  },
  {
   "cell_type": "code",
   "execution_count": 8,
   "metadata": {
    "collapsed": false,
    "slideshow": {
     "slide_type": "subslide"
    }
   },
   "outputs": [
    {
     "name": "stdout",
     "output_type": "stream",
     "text": [
      "Hoy    : 2017-09-23\n",
      "Un día : 1 day, 0:00:00\n",
      "Ayer: 2017-09-22\n",
      "Mañana: 2017-09-24\n",
      "Horas:\n",
      "\tt1: 12:55:00\n",
      "\tt2: 13:05:00\n",
      "\tt1 < t2: True\n",
      "Fechas:\n",
      "\td1: 2017-09-23\n",
      "\td2: 2017-09-24\n",
      "\td1 > d2: False\n"
     ]
    }
   ],
   "source": [
    "#Aritmética de fechas\n",
    "hoy= datetime.date.today()\n",
    "print 'Hoy    :', hoy\n",
    "\n",
    "un_dia = datetime.timedelta(days=1)\n",
    "print 'Un día :', un_dia\n",
    "\n",
    "ayer = hoy - un_dia\n",
    "print 'Ayer:', ayer\n",
    "\n",
    "manana = hoy + un_dia\n",
    "print 'Mañana:', manana\n",
    "\n",
    "#Comparamos fechas y horas\n",
    "print 'Horas:'\n",
    "t1 = datetime.time(12, 55, 0)\n",
    "print '\\tt1:', t1\n",
    "t2 = datetime.time(13, 5, 0)\n",
    "print '\\tt2:', t2\n",
    "print '\\tt1 < t2:', t1 < t2\n",
    "\n",
    "print 'Fechas:'\n",
    "d1 = datetime.date.today()\n",
    "print '\\td1:', d1\n",
    "d2 = datetime.date.today() + datetime.timedelta(days=1)\n",
    "print '\\td2:', d2\n",
    "print '\\td1 > d2:', d1 > d2"
   ]
  },
  {
   "cell_type": "markdown",
   "metadata": {
    "slideshow": {
     "slide_type": "subslide"
    }
   },
   "source": [
    "Por último, nos puede interesar mostrar las fechas con un formato distinto del que nos muestra por defecto (el sistema ISO). Así que podemos usar la función `strptime` o `strptime` para elegir como mostrar una fecha. Además usaremos `strptime` para transformar cadenas de texto en objetos datetime."
   ]
  },
  {
   "cell_type": "code",
   "execution_count": 9,
   "metadata": {
    "collapsed": false,
    "slideshow": {
     "slide_type": "fragment"
    }
   },
   "outputs": [
    {
     "name": "stdout",
     "output_type": "stream",
     "text": [
      "ISO     : 2017-09-23 10:00:28.897000\n",
      "strftime: Sat Sep 23 10:00:28 2017\n",
      "strptime: Sat Sep 23 10:00:28 2017\n"
     ]
    }
   ],
   "source": [
    "format = \"%a %b %d %H:%M:%S %Y\"\n",
    "\n",
    "today = datetime.datetime.today()\n",
    "print 'ISO     :', today\n",
    "\n",
    "s = today.strftime(format)\n",
    "print 'strftime:', s\n",
    "\n",
    "d = datetime.datetime.strptime(s, format)\n",
    "print 'strptime:', d.strftime(format)"
   ]
  },
  {
   "cell_type": "code",
   "execution_count": 13,
   "metadata": {
    "collapsed": false,
    "slideshow": {
     "slide_type": "fragment"
    }
   },
   "outputs": [
    {
     "name": "stdout",
     "output_type": "stream",
     "text": [
      "<type 'datetime.datetime'>\n",
      "2017-09-01 00:00:00\n"
     ]
    }
   ],
   "source": [
    "fecha=datetime.datetime.strptime(\"1-09-2017\", \"%d-%m-%Y\")\n",
    "print type(fecha)\n",
    "print fecha"
   ]
  },
  {
   "cell_type": "markdown",
   "metadata": {
    "collapsed": true,
    "deletable": true,
    "editable": true,
    "nbpresent": {
     "id": "791825c7-92c1-4137-a834-3bea94e0fbbd"
    },
    "slideshow": {
     "slide_type": "slide"
    }
   },
   "source": [
    "##  Estructuras de datos"
   ]
  },
  {
   "cell_type": "markdown",
   "metadata": {
    "deletable": true,
    "editable": true,
    "nbpresent": {
     "id": "953dea05-18de-4af6-a84e-3a2f2ba9133c"
    },
    "slideshow": {
     "slide_type": "slide"
    }
   },
   "source": [
    "Los tipos de datos que hemos visto con anterioridad son tipos de datos simples. En este apartado veremos la colecciones, que son agrupaciones de otros tipos de datos. Dentro de Python tenemos tres estructuras de datos o colecciones básicas: \n",
    "- Tuplas\n",
    "- Tuplas\n",
    "- Diccionarios"
   ]
  },
  {
   "cell_type": "markdown",
   "metadata": {
    "deletable": true,
    "editable": true,
    "nbpresent": {
     "id": "5e6ea37f-64bf-4753-ae69-2dd3abdeafc7"
    },
    "slideshow": {
     "slide_type": "slide"
    }
   },
   "source": [
    "### Listas\n",
    "\n",
    "Las listas son una colección ordenada de elementos. En otros lenguajes se conocen como arrays o vectores. \n",
    "\n",
    "Para definir las listas basta con enumerar sus elementos entre corchetes."
   ]
  },
  {
   "cell_type": "code",
   "execution_count": 27,
   "metadata": {
    "collapsed": false,
    "deletable": true,
    "editable": true,
    "nbpresent": {
     "id": "49a19192-afc3-4e0d-bea2-9c686ffb44c7"
    },
    "slideshow": {
     "slide_type": "fragment"
    }
   },
   "outputs": [
    {
     "data": {
      "text/plain": [
       "list"
      ]
     },
     "execution_count": 27,
     "metadata": {},
     "output_type": "execute_result"
    }
   ],
   "source": [
    "colores=['rojo','amarillo','azul','verde']\n",
    "type(colores)"
   ]
  },
  {
   "cell_type": "code",
   "execution_count": 19,
   "metadata": {
    "collapsed": false,
    "deletable": true,
    "editable": true,
    "nbpresent": {
     "id": "e801ea69-8940-4482-bbf8-51271d7a64f0"
    },
    "slideshow": {
     "slide_type": "fragment"
    }
   },
   "outputs": [
    {
     "data": {
      "text/plain": [
       "list"
      ]
     },
     "execution_count": 19,
     "metadata": {},
     "output_type": "execute_result"
    }
   ],
   "source": [
    "#todos los elementos de una lista no tienen por qué ser del mismo tipo\n",
    "mixta=['Alicia',1,True,'Antonio',36,False,'Lucia',33,'Casper',11]\n",
    "type(mixta)"
   ]
  },
  {
   "cell_type": "code",
   "execution_count": 22,
   "metadata": {
    "collapsed": false,
    "deletable": true,
    "editable": true,
    "nbpresent": {
     "id": "af27b0bd-ad16-4de2-83cf-0d2f832f4cdd"
    },
    "slideshow": {
     "slide_type": "fragment"
    }
   },
   "outputs": [
    {
     "data": {
      "text/plain": [
       "list"
      ]
     },
     "execution_count": 22,
     "metadata": {},
     "output_type": "execute_result"
    }
   ],
   "source": [
    "#podemos anidar listas dentro de listas\n",
    "anidada=[1,['a','b'],True,[False,'cadena',33]]\n",
    "type(anidada)"
   ]
  },
  {
   "cell_type": "markdown",
   "metadata": {
    "deletable": true,
    "editable": true,
    "nbpresent": {
     "id": "6719f9ac-ff20-4e83-8dc2-616fff96f347"
    },
    "slideshow": {
     "slide_type": "subslide"
    }
   },
   "source": [
    "Con la función len podemos saber el número de elementos contenidos en una lista."
   ]
  },
  {
   "cell_type": "code",
   "execution_count": 29,
   "metadata": {
    "collapsed": false,
    "deletable": true,
    "editable": true,
    "nbpresent": {
     "id": "69a65511-1162-42ca-be7a-27790e424ba0"
    },
    "slideshow": {
     "slide_type": "fragment"
    }
   },
   "outputs": [
    {
     "name": "stdout",
     "output_type": "stream",
     "text": [
      "La lista Mixta tiene 10 elementos. La lista colores tiene 4 elementos\n"
     ]
    }
   ],
   "source": [
    "print \"La lista Mixta tiene {0} elementos. La lista colores tiene {1} elementos\".format(len(mixta),len(colores))"
   ]
  },
  {
   "cell_type": "markdown",
   "metadata": {
    "deletable": true,
    "editable": true,
    "nbpresent": {
     "id": "9347824f-9a2d-47ce-9f79-d5e898696d3c"
    },
    "slideshow": {
     "slide_type": "subslide"
    }
   },
   "source": [
    "Para acceder a los elementos de un vector usamos el nombre del vector seguido de los corchetes y el indice del elemento. Las listas comienzan en 0 en python."
   ]
  },
  {
   "cell_type": "code",
   "execution_count": 25,
   "metadata": {
    "collapsed": false,
    "deletable": true,
    "editable": true,
    "nbpresent": {
     "id": "97c5b650-8c09-463e-b64d-20eb41122b9c"
    },
    "slideshow": {
     "slide_type": "fragment"
    }
   },
   "outputs": [
    {
     "name": "stdout",
     "output_type": "stream",
     "text": [
      "azul\n",
      "b\n",
      "[False, 'cadena', 33]\n"
     ]
    }
   ],
   "source": [
    "print colores[2]\n",
    "print anidada[1][1]\n",
    "print anidada[3]"
   ]
  },
  {
   "cell_type": "markdown",
   "metadata": {
    "deletable": true,
    "editable": true,
    "nbpresent": {
     "id": "34afae13-b99f-4ec4-8895-6a41d1082763"
    },
    "slideshow": {
     "slide_type": "subslide"
    }
   },
   "source": [
    "Python permite la notación \"slicing\", que nos permite acceder a un subconjunto de elementos de una lista definiendo el subrango de indices mediante [inicio:fin]. Por ejemplo, en la lista colores:\n",
    "\n",
    "|rojo|amarillo|azul|verde|\n",
    "|:---:|:---:|:---:|:---:|\n",
    "|0|1|2|3|\n",
    "| -4|-3|-2|-1|\n",
    "\n",
    "Tenemos que:"
   ]
  },
  {
   "cell_type": "code",
   "execution_count": 30,
   "metadata": {
    "collapsed": false,
    "deletable": true,
    "editable": true,
    "nbpresent": {
     "id": "d5b82141-4897-4eb7-acfc-fa30d57f9e96"
    },
    "slideshow": {
     "slide_type": "fragment"
    }
   },
   "outputs": [
    {
     "name": "stdout",
     "output_type": "stream",
     "text": [
      "['amarillo', 'azul']\n",
      "['amarillo', 'azul', 'verde']\n",
      "['rojo', 'amarillo', 'azul', 'verde']\n",
      "['azul', 'verde']\n"
     ]
    }
   ],
   "source": [
    "#los dos elementos centrales \n",
    "print colores[1:3]\n",
    "#desde segundo elemento\n",
    "print colores[1:]\n",
    "#todos los elementos del vector  \n",
    "print colores[:]\n",
    "# desde azul elemento en la posición 3, hasta el final ya que el último indice es 3 y 100 es mayor\n",
    "print colores[2:100]"
   ]
  },
  {
   "cell_type": "markdown",
   "metadata": {
    "deletable": true,
    "editable": true,
    "nbpresent": {
     "id": "6503306a-41b1-485f-a32f-974725c82034"
    },
    "slideshow": {
     "slide_type": "subslide"
    }
   },
   "source": [
    "Alternativamente podemos usar los indices de forma negativo, comenzando a contar desde la última posición como -1 hasta la primera posición de la lista. Siguiendo con el ejemplo de la lista colores,tenemos que:"
   ]
  },
  {
   "cell_type": "code",
   "execution_count": 32,
   "metadata": {
    "collapsed": false,
    "deletable": true,
    "editable": true,
    "nbpresent": {
     "id": "fa0c67f2-b702-444b-98fb-88b66b7f68af"
    },
    "slideshow": {
     "slide_type": "fragment"
    }
   },
   "outputs": [
    {
     "name": "stdout",
     "output_type": "stream",
     "text": [
      "azul\n",
      "['rojo']\n",
      "['amarillo', 'azul', 'verde']\n"
     ]
    }
   ],
   "source": [
    "#Se refiere a el penúltimo elemento\n",
    "print colores[-2] \n",
    "#Selecciona todos los elementos desde la posición -3 hasta el inicio; es decir sólo 'rojo'\n",
    "print colores[:-3]\n",
    "#Selecciona todos los elementos desde la posición -3 hasta el final de la lista; todos menos rojo.\n",
    "print colores[-3:]"
   ]
  },
  {
   "cell_type": "markdown",
   "metadata": {
    "deletable": true,
    "editable": true,
    "nbpresent": {
     "id": "b2e7473f-f769-447d-8555-be1ba1a2f910"
    },
    "slideshow": {
     "slide_type": "subslide"
    }
   },
   "source": [
    "Podemos añadir un nuevo elemento al final una lista usando el operador **+** o borrar un elemento de una lista usando el operador **del()**."
   ]
  },
  {
   "cell_type": "code",
   "execution_count": 34,
   "metadata": {
    "collapsed": false,
    "deletable": true,
    "editable": true,
    "nbpresent": {
     "id": "27b021b2-fc76-4ca7-bd38-e782ad477cbd"
    },
    "slideshow": {
     "slide_type": "fragment"
    }
   },
   "outputs": [
    {
     "name": "stdout",
     "output_type": "stream",
     "text": [
      "['rojo', 'amarillo', 'azul', 'verde', 'rosa']\n"
     ]
    }
   ],
   "source": [
    "#añadimos rosa a la lista de colores\n",
    "colores=colores+[\"rosa\"]\n",
    "print colores"
   ]
  },
  {
   "cell_type": "code",
   "execution_count": 35,
   "metadata": {
    "collapsed": false,
    "deletable": true,
    "editable": true,
    "nbpresent": {
     "id": "91b1b9ee-e642-4201-84e4-5634412a1e55"
    },
    "slideshow": {
     "slide_type": "fragment"
    }
   },
   "outputs": [
    {
     "name": "stdout",
     "output_type": "stream",
     "text": [
      "['rojo', 'amarillo', 'verde', 'rosa']\n"
     ]
    }
   ],
   "source": [
    "#borramos azul de la lista de colores\n",
    "del colores[2]\n",
    "print colores"
   ]
  },
  {
   "cell_type": "markdown",
   "metadata": {
    "deletable": true,
    "editable": true,
    "nbpresent": {
     "id": "5a6a3a75-b689-4afa-acae-57bb4bb9a11f"
    },
    "slideshow": {
     "slide_type": "subslide"
    }
   },
   "source": [
    "Además disponemos de las siguientes funciones sobre listas:\n",
    "\n",
    "|Función |Descripción | Ejemplo |\n",
    "|---|----------------------------|---|\n",
    "|l.append(elemento)| Añade un sólo elemento al final de la lista. |`[1,2,3].append(4) #salida [1,2,3,4]`|\n",
    "|l.insert(elemento, index)| Añade un elemento en la posición que se indica. |`[2,4,6].append(3,1) #salida [2,3,4,6]`|\n",
    "|l.index(elemento)| Busca un elemento en la lista y devuelve su indice. |`[2,4,6].index(6) #salida 2`|\n",
    "|l.remove(elemento) | Borra un elemento de la lista. |`[2,4,6].remove(4) #salida [2,6]`|\n",
    "|l.sort() | Ordena la lista en su lugar | `[4,2,8,6].sort() #salida [2,4,6,8]`|\n",
    "|l.reverse() | Invierte la lista en lugar | `[2,4,6].reverse() #salida [6,4,2]`|\n",
    "|l.pop(indice) | Borra y devuelve el elemento en la posición indicada | `[2,4,6].pop(1) #salida 4, la lista quedaría [2,6]`|\n",
    "\n",
    "Un detalle interesante es que el tipo string es a su vez considerado una lista especial donde todos sus elementos son caracteres. Así que las funciones que hemos visto para listas así como los mecanismos de acceso mediante indices positivos y negativos también se pueden usar con listas."
   ]
  },
  {
   "cell_type": "markdown",
   "metadata": {
    "deletable": true,
    "editable": true,
    "nbpresent": {
     "id": "316051bf-4545-4834-b21a-99b9fe88b109"
    },
    "slideshow": {
     "slide_type": "slide"
    }
   },
   "source": [
    "### Tuplas\n",
    "\n",
    "Las tuplas son un tipo especial de listas, a las que se les aplica los mismos mecanismos, con la diferencia de que se definen entre paréntesis. Realmente el constructor de las tuplas es la coma, que contatena los elementos, pero por claridad se suele indicar que se usen los paréntesis.\n",
    "\n",
    "Su principal diferencia con respecto a las listas es que son inmutables. Una vez creadas no se pueden modificar."
   ]
  },
  {
   "cell_type": "code",
   "execution_count": 20,
   "metadata": {
    "collapsed": false,
    "deletable": true,
    "editable": true,
    "nbpresent": {
     "id": "07b310fc-a107-4f7c-81f0-659c392df1df"
    },
    "slideshow": {
     "slide_type": "fragment"
    }
   },
   "outputs": [
    {
     "name": "stdout",
     "output_type": "stream",
     "text": [
      "<type 'tuple'>\n",
      "Hoy es martes\n",
      "<type 'int'>\n",
      "<type 'tuple'>\n",
      "Semana laboral: ('lunes', 'martes', 'mi\\xc3\\xa9rcoles', 'jueves')\n"
     ]
    }
   ],
   "source": [
    "dias_semana=('lunes','martes','miércoles','jueves','viernes','sabado','domingo')\n",
    "print type(dias_semana)\n",
    "print \"Hoy es {0}\".format(dias_semana[1])\n",
    "no_es_tupla=(1)\n",
    "print type(no_es_tupla)\n",
    "es_tupla=(1,)\n",
    "print type(es_tupla)\n",
    "print \"Semana laboral: {0}\".format(dias_semana[0:4])"
   ]
  },
  {
   "cell_type": "markdown",
   "metadata": {
    "deletable": true,
    "editable": true,
    "nbpresent": {
     "id": "918f583e-0e4c-47b9-be60-ec969f9f58e5"
    },
    "slideshow": {
     "slide_type": "subslide"
    }
   },
   "source": [
    "---\n",
    "*Ejercicio*: En el ejemplo anterior al imprimir miércoles aparece sin acento, ¿cómo solucionaríamos este problema?. Define de nuevo días de la semana evitando ese problema de codificación e imprímelo."
   ]
  },
  {
   "cell_type": "code",
   "execution_count": null,
   "metadata": {
    "collapsed": true,
    "deletable": true,
    "editable": true,
    "nbpresent": {
     "id": "aa0efbde-bed7-49e9-8f1a-c8517f386e40"
    }
   },
   "outputs": [],
   "source": []
  },
  {
   "cell_type": "markdown",
   "metadata": {
    "deletable": true,
    "editable": true,
    "nbpresent": {
     "id": "39ccfe11-7217-4eb1-978e-d96765a9b6ed"
    },
    "slideshow": {
     "slide_type": "slide"
    }
   },
   "source": [
    "### Diccionarios\n",
    "\n",
    "Los diccionarios son colecciones formadas por pares valor-clave o también conocidas como matrices asociativas. Se define como una enumeración entre llaves de pares separados por dos puntos, donde el primer valor es la clave y el segundo el valor asociado. Las claves deben ser tipos de datos simples o tuplas (datos inmutables), pero los valores pueden ser cualquier tipo de datos: datos simples, otro diccionario, listas, tuplas, objetos,....\n",
    "\n",
    "Podremos acceder a los valores de los elementos de la colección usando como índice la clave. Y podremos añadirlos directamente escribiendo la clave y el valor."
   ]
  },
  {
   "cell_type": "code",
   "execution_count": 2,
   "metadata": {
    "collapsed": false,
    "deletable": true,
    "editable": true,
    "nbpresent": {
     "id": "5b6e80d1-cd07-490b-99cc-1c9d7e10511f"
    },
    "slideshow": {
     "slide_type": "fragment"
    }
   },
   "outputs": [
    {
     "name": "stdout",
     "output_type": "stream",
     "text": [
      "<type 'dict'>\n"
     ]
    }
   ],
   "source": [
    "diccionario= {\"España\": 'Madrid', 'Francia': u\"París\", 'Reino Unido': 'Londres','Italia':'Roma','Austria':'Zurich'}\n",
    "print type(diccionario)"
   ]
  },
  {
   "cell_type": "code",
   "execution_count": 3,
   "metadata": {
    "collapsed": false,
    "deletable": true,
    "editable": true,
    "nbpresent": {
     "id": "f4c8e9d9-509d-46ee-9254-75b3a73bc8f6"
    },
    "slideshow": {
     "slide_type": "fragment"
    }
   },
   "outputs": [
    {
     "name": "stdout",
     "output_type": "stream",
     "text": [
      "París\n",
      "{'Francia': u'Par\\xeds', 'Reino Unido': 'Londres', 'Espa\\xc3\\xb1a': 'Madrid', 'Austria': 'Zurich', 'Italia': 'Roma', 'Alemania': 'Berl\\xc3\\xadn'}\n",
      "{'Francia': u'Par\\xeds', 'Reino Unido': 'Londres', 'Espa\\xc3\\xb1a': 'Madrid', 'Austria': 'Viena', 'Italia': 'Roma', 'Alemania': 'Berl\\xc3\\xadn'}\n"
     ]
    }
   ],
   "source": [
    "#leemos un elemento\n",
    "print diccionario['Francia']\n",
    "#añadimos un nuevo elemento\n",
    "diccionario['Alemania']='Berlín'\n",
    "print diccionario\n",
    "#modificamos un elemento \n",
    "diccionario['Austria']='Viena'\n",
    "print diccionario"
   ]
  },
  {
   "cell_type": "markdown",
   "metadata": {
    "deletable": true,
    "editable": true,
    "nbpresent": {
     "id": "90cd4f21-c62e-43ec-9e94-a5a03f9e7083"
    },
    "slideshow": {
     "slide_type": "subslide"
    }
   },
   "source": [
    "Los principales métodos que podemos usar con los diccionarios son:\n",
    "\n",
    "- **d.keys()** devuelve la lista de claves de un diccionario.\n",
    "- **d.items()** devuelve una lista con pares clave-valor como tuplas.\n",
    "- **d.values()** devuelve una lista con los valores del diccionario.\n",
    "\n"
   ]
  },
  {
   "cell_type": "code",
   "execution_count": 5,
   "metadata": {
    "collapsed": false,
    "deletable": true,
    "editable": true,
    "slideshow": {
     "slide_type": "fragment"
    }
   },
   "outputs": [
    {
     "name": "stdout",
     "output_type": "stream",
     "text": [
      "['Francia', 'Reino Unido', 'Espa\\xc3\\xb1a', 'Austria', 'Italia', 'Alemania']\n",
      "[('Francia', u'Par\\xeds'), ('Reino Unido', 'Londres'), ('Espa\\xc3\\xb1a', 'Madrid'), ('Austria', 'Viena'), ('Italia', 'Roma'), ('Alemania', 'Berl\\xc3\\xadn')]\n",
      "[u'Par\\xeds', 'Londres', 'Madrid', 'Viena', 'Roma', 'Berl\\xc3\\xadn']\n"
     ]
    }
   ],
   "source": [
    "print diccionario.keys()\n",
    "print diccionario.items()\n",
    "print diccionario.values()"
   ]
  },
  {
   "cell_type": "markdown",
   "metadata": {
    "deletable": true,
    "editable": true,
    "nbpresent": {
     "id": "50d95edc-740e-42da-b1e4-5191ce34cad4"
    },
    "slideshow": {
     "slide_type": "slide"
    }
   },
   "source": [
    "## Estructuras de Control\n",
    "\n",
    "### Sentencias condicionales\n",
    "\n",
    "La sentencia condicional más básica que encontramos en Python es `if` seguido de la condición a evaluar, que debe ser una expresión booleana según hemos visto en el curso, seguida de dos puntos. El bloque de sentencias que se ejecutará en caso de que la condición sea cierta debe estar indentado. "
   ]
  },
  {
   "cell_type": "code",
   "execution_count": 17,
   "metadata": {
    "collapsed": false,
    "deletable": true,
    "editable": true,
    "nbpresent": {
     "id": "d8b8c528-14e6-46c2-83e5-4cfb49ec55c0"
    },
    "slideshow": {
     "slide_type": "fragment"
    }
   },
   "outputs": [
    {
     "name": "stdout",
     "output_type": "stream",
     "text": [
      "Muchas gracias pero hoy no me apetecen.\n"
     ]
    }
   ],
   "source": [
    "comida='sopa'\n",
    "if comida=='sopa':\n",
    "    print \"Muchas gracias, pero hoy no me apetece.\"\n",
    "    print \"¿Hay hamburguesas?\""
   ]
  },
  {
   "cell_type": "code",
   "execution_count": 18,
   "metadata": {
    "collapsed": false,
    "deletable": true,
    "editable": true,
    "nbpresent": {
     "id": "b0189cc2-6ac6-4eba-8fd7-8907079bc395"
    },
    "slideshow": {
     "slide_type": "subslide"
    }
   },
   "outputs": [
    {
     "name": "stdout",
     "output_type": "stream",
     "text": [
      "Muchas gracias pero hoy no me apetecen.\n",
      "¿Hay hamburguesas?\n"
     ]
    }
   ],
   "source": [
    "#Cuidado con la indentación de los bloques\n",
    "comida='sopa'\n",
    "if comida=='sopa':\n",
    "    print \"Muchas gracias, pero hoy no me apetece.\"\n",
    "print \"¿Hay hamburguesas?\""
   ]
  },
  {
   "cell_type": "markdown",
   "metadata": {
    "deletable": true,
    "editable": true,
    "slideshow": {
     "slide_type": "subslide"
    }
   },
   "source": [
    "Si deseamos añadir una alternativa a la condición principal usamos la palabra reservada `else` seguida de dos puntos."
   ]
  },
  {
   "cell_type": "code",
   "execution_count": 14,
   "metadata": {
    "collapsed": false,
    "deletable": true,
    "editable": true,
    "slideshow": {
     "slide_type": "fragment"
    }
   },
   "outputs": [
    {
     "name": "stdout",
     "output_type": "stream",
     "text": [
      "['AMBAR', 'VERDE', 'VERDE', 'ROJO', 'AMBAR', 'ROJO']\n",
      "Esperemos hasta que se ponga verde\n"
     ]
    }
   ],
   "source": [
    "#EJECUTA ESTE CÓDIGO VARIAS VECES PARA VER SU RESULTADO\n",
    "#Llamamos a una biblioteca: random\n",
    "import random\n",
    "semaforo=['VERDE','ROJO','AMBAR','VERDE','ROJO','AMBAR']\n",
    "#El método shuffle modifica el orden de los elementos del array\n",
    "random.shuffle(semaforo)\n",
    "print semaforo\n",
    "if semaforo[0]=='VERDE':\n",
    "    print \"Vamos a cruzar\"\n",
    "else:\n",
    "    print \"Esperemos hasta que se ponga verde\""
   ]
  },
  {
   "cell_type": "markdown",
   "metadata": {
    "deletable": true,
    "editable": true,
    "slideshow": {
     "slide_type": "subslide"
    }
   },
   "source": [
    "En Python carecemos de la instrucción switch como en otros lenguajes así que cuando existen varias condiciones asociadas al `if` usamos la palabra reservada `elif`."
   ]
  },
  {
   "cell_type": "code",
   "execution_count": 16,
   "metadata": {
    "collapsed": false,
    "deletable": true,
    "editable": true,
    "slideshow": {
     "slide_type": "fragment"
    }
   },
   "outputs": [
    {
     "name": "stdout",
     "output_type": "stream",
     "text": [
      "['AMBAR', 'ROJO', 'VERDE', 'AMBAR', 'VERDE', 'ROJO']\n",
      "No sé si deberíamos cruzar, igual con prudencia\n"
     ]
    }
   ],
   "source": [
    "#EJECUTA ESTE CÓDIGO VARIAS VECES PARA VER SU RESULTADO\n",
    "#Llamamos a una biblioteca: random\n",
    "import random\n",
    "semaforo=['VERDE','ROJO','AMBAR','VERDE','ROJO','AMBAR']\n",
    "#El método shuffle modifica el orden de los elementos del array\n",
    "random.shuffle(semaforo)\n",
    "print semaforo\n",
    "if semaforo[0]=='VERDE':\n",
    "    print \"Vamos a cruzar\"\n",
    "elif semaforo[0]=='AMBAR':\n",
    "    print \"No sé si deberíamos cruzar, igual con prudencia\"\n",
    "elif semaforo[0]=='ROJO':\n",
    "    print \"Esperemos hasta que se ponga verde\"\n",
    "else:\n",
    "    print \"Vaya, el semáforo está raro\""
   ]
  },
  {
   "cell_type": "markdown",
   "metadata": {
    "deletable": true,
    "editable": true,
    "slideshow": {
     "slide_type": "subslide"
    }
   },
   "source": [
    "Por último tenemos un constructor de sentencias condicionales similar a ? en otros lenguajes, lo que nos permite escribir sentencias condicionales en una sola línea. Se suelen construir con la sintaxis A if C else B, que sería equivalente a \n",
    "if C then A, else B."
   ]
  },
  {
   "cell_type": "code",
   "execution_count": 18,
   "metadata": {
    "collapsed": false,
    "deletable": true,
    "editable": true,
    "slideshow": {
     "slide_type": "fragment"
    }
   },
   "outputs": [
    {
     "name": "stdout",
     "output_type": "stream",
     "text": [
      "Si\n"
     ]
    }
   ],
   "source": [
    "numero=1024\n",
    "es_par= 'Si' if numero%2==0 else 'No'\n",
    "print es_par"
   ]
  },
  {
   "cell_type": "markdown",
   "metadata": {
    "deletable": true,
    "editable": true,
    "slideshow": {
     "slide_type": "slide"
    }
   },
   "source": [
    "### Bucles\n",
    "\n",
    "Dentro de Python nos encontramos con dos estructuras de control iterativas: `while`y `for ... in`."
   ]
  },
  {
   "cell_type": "markdown",
   "metadata": {
    "deletable": true,
    "editable": true,
    "slideshow": {
     "slide_type": "subslide"
    }
   },
   "source": [
    "Los bucles while se ejecutan mientrás se cumpla la condición indicada. \n"
   ]
  },
  {
   "cell_type": "code",
   "execution_count": 22,
   "metadata": {
    "collapsed": false,
    "deletable": true,
    "editable": true,
    "slideshow": {
     "slide_type": "fragment"
    }
   },
   "outputs": [
    {
     "name": "stdout",
     "output_type": "stream",
     "text": [
      "Hoy es lunes. ¡A trabajar!\n",
      "Hoy es martes. ¡A trabajar!\n",
      "Hoy es miércoles. ¡A trabajar!\n",
      "Hoy es jueves. ¡A trabajar!\n",
      "Hoy es viernes. ¡A trabajar!\n",
      "Hoy es sabado. Es fin de semana, buen descanso\n",
      "Hoy es domingo. Es fin de semana, buen descanso\n"
     ]
    }
   ],
   "source": [
    "dia=0;\n",
    "while dia<7:\n",
    "    if dia<5:\n",
    "        print \"Hoy es {0}. ¡A trabajar!\".format(dias_semana[dia])\n",
    "    else: \n",
    "        print \"Hoy es {0}. Es fin de semana, buen descanso\".format(dias_semana[dia])\n",
    "    dia=dia+1"
   ]
  },
  {
   "cell_type": "markdown",
   "metadata": {
    "deletable": true,
    "editable": true,
    "slideshow": {
     "slide_type": "subslide"
    }
   },
   "source": [
    "Es importante escribir una condición que se cumpla en algún momento o entraremos en un bucle infinito. Sin embargo, en ocasiones nos interesa crear bucles infinitos. En ese caso usaremos la instrucción `break` para romper el bucle."
   ]
  },
  {
   "cell_type": "code",
   "execution_count": 23,
   "metadata": {
    "collapsed": false,
    "deletable": true,
    "editable": true,
    "slideshow": {
     "slide_type": "fragment"
    }
   },
   "outputs": [
    {
     "name": "stdout",
     "output_type": "stream",
     "text": [
      "Hoy es lunes. ¡A trabajar!\n",
      "Hoy es martes. ¡A trabajar!\n",
      "Hoy es miércoles. ¡A trabajar!\n",
      "Hoy es jueves. ¡A trabajar!\n",
      "Hoy es viernes. ¡A trabajar!\n",
      "Hoy es sabado. Es fin de semana, buen descanso\n",
      "Hoy es domingo. Es fin de semana, buen descanso\n"
     ]
    }
   ],
   "source": [
    "dia=0\n",
    "while True:\n",
    "    if dia<5:\n",
    "        print \"Hoy es {0}. ¡A trabajar!\".format(dias_semana[dia])\n",
    "    elif dia<7:\n",
    "        print \"Hoy es {0}. Es fin de semana, buen descanso\".format(dias_semana[dia])\n",
    "    else: \n",
    "        break;\n",
    "    dia=dia+1"
   ]
  },
  {
   "cell_type": "markdown",
   "metadata": {
    "deletable": true,
    "editable": true,
    "slideshow": {
     "slide_type": "subslide"
    }
   },
   "source": [
    "Los bucles `for ... in ...` se utilizan para iterar de forma genérica sobre una colección de elementos. Es decir, se usan para recorrer listas, diccionarios,... \n",
    "\n",
    "Entre la palabra reservada `for` e `in` usamos una variable que nos va a permitir acceder en bloque del bucle al elemento actual en la iteración. Tras la palabra reservada `in` incluimos la colección que deseamos recorrer."
   ]
  },
  {
   "cell_type": "code",
   "execution_count": 24,
   "metadata": {
    "collapsed": false,
    "deletable": true,
    "editable": true,
    "slideshow": {
     "slide_type": "fragment"
    }
   },
   "outputs": [
    {
     "name": "stdout",
     "output_type": "stream",
     "text": [
      "lunes\n",
      "martes\n",
      "miércoles\n",
      "jueves\n",
      "viernes\n",
      "sabado\n",
      "domingo\n"
     ]
    }
   ],
   "source": [
    "for dia in dias_semana:\n",
    "    print dia"
   ]
  },
  {
   "cell_type": "code",
   "execution_count": 32,
   "metadata": {
    "collapsed": false,
    "deletable": true,
    "editable": true,
    "slideshow": {
     "slide_type": "fragment"
    }
   },
   "outputs": [
    {
     "name": "stdout",
     "output_type": "stream",
     "text": [
      "París\n",
      "Londres\n",
      "Madrid\n",
      "Viena\n",
      "Roma\n",
      "Berlín\n"
     ]
    }
   ],
   "source": [
    "for item in diccionario.values():\n",
    "    print item"
   ]
  },
  {
   "cell_type": "markdown",
   "metadata": {
    "deletable": true,
    "editable": true,
    "slideshow": {
     "slide_type": "subslide"
    }
   },
   "source": [
    "En ocasiones no queremos recorrer una lista, sino queremos un indice; es decir una variable númerica cuyo valor vamos incrementando. En ese caso usamos la función xrange(inicio, fin, incremento). Esta función nos genera automáticamente una lista con la secuencia de números que necesitamos.\n",
    "\n",
    "Existe una función equivalente, llamada range. Sin embargo, en la versión 2.7 por eficiencia es preferible la función xrange."
   ]
  },
  {
   "cell_type": "code",
   "execution_count": 34,
   "metadata": {
    "collapsed": false,
    "deletable": true,
    "editable": true,
    "slideshow": {
     "slide_type": "fragment"
    }
   },
   "outputs": [
    {
     "name": "stdout",
     "output_type": "stream",
     "text": [
      "1\n",
      "3\n",
      "5\n",
      "7\n",
      "9\n"
     ]
    }
   ],
   "source": [
    "for i in xrange(1,10,2):\n",
    "    print i"
   ]
  },
  {
   "cell_type": "markdown",
   "metadata": {
    "deletable": true,
    "editable": true,
    "slideshow": {
     "slide_type": "slide"
    }
   },
   "source": [
    "### Funciones\n",
    "\n",
    "Una función es un bloque de instrucciones con un objetivo claro, que realizar una serie de operaciones y siempre devuelve un valor. En Python no disponemos de métodos, siempre se devuelve un valor. Si en una función no se indica que valor se deve retornar, por defecto de devuelve el objeto None.\n",
    "\n",
    "En Python las funciones se definen con la palabra reservada `def` seguida del nombre de la función y los parámetros entre paréntesis. "
   ]
  },
  {
   "cell_type": "code",
   "execution_count": 36,
   "metadata": {
    "collapsed": false,
    "deletable": true,
    "editable": true,
    "slideshow": {
     "slide_type": "fragment"
    }
   },
   "outputs": [
    {
     "name": "stdout",
     "output_type": "stream",
     "text": [
      "5\n"
     ]
    }
   ],
   "source": [
    "def suma(a, b):\n",
    "    \"\"\"Esta función se encarga de sumar a con b y devolver el valor \"\"\"\n",
    "    return a+b\n",
    "\n",
    "print suma(2,3)"
   ]
  },
  {
   "cell_type": "markdown",
   "metadata": {
    "deletable": true,
    "editable": true,
    "slideshow": {
     "slide_type": "subslide"
    }
   },
   "source": [
    "Si escribimos un comentario justo después de la primera línea de nuestra función entre *tres comillas dobles*, esa cadena se considerará el docstring de la función. Es el texto que se nos mostrará cuando busquemos ayuda relacionada con la función. Es por eso que es importante documentar apropiadamente las funciones que definamos.\n",
    "\n",
    "Dada una función podemos mostrar su ayuda mediante la función **help(funcion)** o bien con el nombre de la función seguida de **?**"
   ]
  },
  {
   "cell_type": "code",
   "execution_count": 38,
   "metadata": {
    "collapsed": false,
    "deletable": true,
    "editable": true,
    "slideshow": {
     "slide_type": "fragment"
    }
   },
   "outputs": [
    {
     "name": "stdout",
     "output_type": "stream",
     "text": [
      "Help on function suma in module __main__:\n",
      "\n",
      "suma(a, b)\n",
      "    Esta función se encarga de sumar a con b y devolver el valor\n",
      "\n"
     ]
    }
   ],
   "source": [
    "help(suma)"
   ]
  },
  {
   "cell_type": "markdown",
   "metadata": {
    "deletable": true,
    "editable": true,
    "slideshow": {
     "slide_type": "subslide"
    }
   },
   "source": [
    "Cuando llamamos a las funciones podemos usar los argumentos en el mismo orden en el que se han definido en la función o podemos alterar el orden indicando que valor queremos asociar a cada parámetro."
   ]
  },
  {
   "cell_type": "code",
   "execution_count": 39,
   "metadata": {
    "collapsed": false,
    "deletable": true,
    "editable": true,
    "slideshow": {
     "slide_type": "fragment"
    }
   },
   "outputs": [
    {
     "name": "stdout",
     "output_type": "stream",
     "text": [
      "2\n",
      "-2\n"
     ]
    }
   ],
   "source": [
    "def resta(a,b):\n",
    "    \"\"\"Esta función realiza la resta de a menos b\"\"\"\n",
    "    return a-b\n",
    "\n",
    "print resta(5,3)\n",
    "print resta(b=5,a=3)"
   ]
  },
  {
   "cell_type": "markdown",
   "metadata": {
    "deletable": true,
    "editable": true,
    "slideshow": {
     "slide_type": "subslide"
    }
   },
   "source": [
    "También es posible, no obstante, definir funciones con un número variable de argumentos, o bien asignar valores por defecto a los parámetros para el caso de que no se indique ningún valor para ese parámetro al llamar a la función."
   ]
  },
  {
   "cell_type": "code",
   "execution_count": 44,
   "metadata": {
    "collapsed": false,
    "deletable": true,
    "editable": true,
    "slideshow": {
     "slide_type": "fragment"
    }
   },
   "outputs": [
    {
     "name": "stdout",
     "output_type": "stream",
     "text": [
      "1024\n",
      "125\n"
     ]
    }
   ],
   "source": [
    "def potencia(exponente,base=2):\n",
    "    \"\"\" Esta función eleva a la potencia a la base. Si no se indica la base se considera 2\"\"\"\n",
    "    return base**exponente\n",
    "\n",
    "print potencia(10)\n",
    "print potencia(3,5)"
   ]
  },
  {
   "cell_type": "markdown",
   "metadata": {
    "deletable": true,
    "editable": true,
    "slideshow": {
     "slide_type": "subslide"
    }
   },
   "source": [
    "Si quisieramos crear una función que recibiera un número variable de parámetros usaríamos la `*` delante del último parámetro. Este último parámetro funcionaría como una tupla.\n"
   ]
  },
  {
   "cell_type": "code",
   "execution_count": 45,
   "metadata": {
    "collapsed": false,
    "deletable": true,
    "editable": true,
    "slideshow": {
     "slide_type": "fragment"
    }
   },
   "outputs": [
    {
     "name": "stdout",
     "output_type": "stream",
     "text": [
      "5\n",
      "20\n"
     ]
    }
   ],
   "source": [
    "def tsuma(a,*otros):\n",
    "    \"\"\"Esta función realiza la suma de todos los parámetros que recibe\"\"\"\n",
    "    suma=a\n",
    "    for item in otros:\n",
    "        suma=suma+item\n",
    "    return suma\n",
    "\n",
    "print tsuma(2,3)\n",
    "print tsuma(2,3,4,5,6)"
   ]
  },
  {
   "cell_type": "markdown",
   "metadata": {
    "deletable": true,
    "editable": true,
    "slideshow": {
     "slide_type": "subslide"
    }
   },
   "source": [
    "En Python se permite la devolución de más de un objeto mediante la instrucción return. Podemos recoger los diversos objetos devueltos por una función mediante la asignación múltiple."
   ]
  },
  {
   "cell_type": "code",
   "execution_count": 3,
   "metadata": {
    "collapsed": false,
    "deletable": true,
    "editable": true,
    "slideshow": {
     "slide_type": "fragment"
    }
   },
   "outputs": [
    {
     "name": "stdout",
     "output_type": "stream",
     "text": [
      "Para un circulo con radio 13, tenemos un diametro de 81.6816, su área es de 530.9304 y su longitud de circunferencia 26\n"
     ]
    }
   ],
   "source": [
    "def circulo(radio):\n",
    "    \"\"\"Función que calcula el área y la longitud de un círculo\"\"\"\n",
    "    diametro=radio*2\n",
    "    area=2*radio*pi\n",
    "    longitud=pi*(radio**2)\n",
    "    return area,longitud,diametro\n",
    "\n",
    "d,a,l=circulo(13)\n",
    "print \"Para un circulo con radio 13, tenemos un diametro de {0}, su área es de {1} y su longitud de circunferencia {2}\".format(d,a,l)"
   ]
  },
  {
   "cell_type": "markdown",
   "metadata": {
    "deletable": true,
    "editable": true,
    "slideshow": {
     "slide_type": "subslide"
    }
   },
   "source": [
    "\n",
    "Si queremos usar un diccionario en lugar de una tupla con este último parámetro solo hay que añadir `**` en lugar de sólo un `*`. En este caso las claves serán el nombre de las variables pasadas como parámetro.\n",
    "\n",
    "En las funciones existen dos formas de paso de parámetros:\n",
    "\n",
    "- *Por valor*, donde los cambios que sufre la variable dentro del método no son visibles una vez finalizada la ejecución de la función.\n",
    "- *Por referencia*, donde en lugar de una copia de la variable se pasa una referencia a la zona de memoria donde se almacena el dato. Por tanto los cambios en la variable son visibles más allá de la función.\n",
    "\n",
    "Los parámetros en Python se pasar todos por valor excepto los objetos que se pasan por referencias. Esto quiere decir que, a excepción de los objetos inmutables, todos los cambios en los objetos serán visible más allá del método.\n"
   ]
  },
  {
   "cell_type": "code",
   "execution_count": 4,
   "metadata": {
    "collapsed": false,
    "deletable": true,
    "editable": true,
    "slideshow": {
     "slide_type": "fragment"
    }
   },
   "outputs": [
    {
     "name": "stdout",
     "output_type": "stream",
     "text": [
      "5 [22, 23]\n",
      "2 [22, 23]\n"
     ]
    }
   ],
   "source": [
    "def visible(variable,objeto):\n",
    "    \"\"\"Función ejemplo para detectar la visibilidad de una variable simple pasada por valor y un objeto por referencia\"\"\"\n",
    "    variable=variable+3\n",
    "    objeto.append(23)\n",
    "    print variable,objeto\n",
    "    \n",
    "x=2\n",
    "y=[22]\n",
    "visible(x,y)\n",
    "#la variable x al pasar por valor no conservará los cambios\n",
    "#pero y como es una lista si conservará los cambios\n",
    "print x,y"
   ]
  },
  {
   "cell_type": "markdown",
   "metadata": {
    "deletable": true,
    "editable": true,
    "slideshow": {
     "slide_type": "subslide"
    }
   },
   "source": [
    "En Python todo es un objeto, así que podemos asignar funciones a una variable y ejecutarlas cuando nos sean útiles."
   ]
  },
  {
   "cell_type": "code",
   "execution_count": 53,
   "metadata": {
    "collapsed": false,
    "deletable": true,
    "editable": true,
    "slideshow": {
     "slide_type": "fragment"
    }
   },
   "outputs": [
    {
     "name": "stdout",
     "output_type": "stream",
     "text": [
      "<type 'function'>\n",
      "Función simple,('prueba',) \n"
     ]
    }
   ],
   "source": [
    "def funcion(t):\n",
    "    \"\"\"Función ejemplo para pasarla como función\"\"\"\n",
    "    return \"Función simple,{0} \".format(t)\n",
    "\n",
    "def ejecutar(f,*params):\n",
    "    \"\"\"Ejecuta una función que pasamos por parámetro, junto con sus argumentos\"\"\"\n",
    "    return f(params)\n",
    "\n",
    "fvar=funcion\n",
    "print type(fvar)\n",
    "print ejecutar(fvar,\"prueba\")"
   ]
  },
  {
   "cell_type": "markdown",
   "metadata": {
    "deletable": true,
    "editable": true,
    "slideshow": {
     "slide_type": "slide"
    }
   },
   "source": [
    "## Ficheros\n",
    "\n",
    "Podemos abrir los ficheros directamente con el método **open(nombre, modificador)**.\n",
    "- Nombre es la ruta al fichero.\n",
    "- Modificador es el modo de apertura del fichero:\n",
    "    - r: lectura\n",
    "    - w: escritura\n",
    "    - a: añadir\n",
    "    \n",
    "Podemos escribir en un fichero con el método **write()**.\n",
    "\n",
    "Podemos leer un fichero completo con el método **readlines()** y si deseamos almacenarlo en un string con el método **read()** .\n",
    "\n",
    "Al terminar de usarlo debemos cerrarlo con **close()**.\n"
   ]
  },
  {
   "cell_type": "code",
   "execution_count": 4,
   "metadata": {
    "collapsed": false,
    "deletable": true,
    "editable": true,
    "slideshow": {
     "slide_type": "fragment"
    }
   },
   "outputs": [
    {
     "name": "stdout",
     "output_type": "stream",
     "text": [
      "﻿The Project Gutenberg EBook of El amigo Manso, by Benito Pérez Galdós\n",
      "\n",
      "This eBook is for the use of anyone anywhere at no cost and with\n",
      "almost no restrictions whatsoever.  You may copy it, give it away or\n",
      "re-use it under the terms of the Project Gutenberg License included\n",
      "with this eBook or online at www.gutenberg.org/license\n",
      "\n",
      "\n",
      "Title: El amigo Manso\n",
      "\n",
      "Author: Benito Pérez Galdós\n",
      "\n",
      "Release Date: September 16, 2017 [EBook #55563]\n",
      "\n",
      "Language: Spanish\n",
      "\n",
      "Character set encoding: UTF-8\n",
      "\n",
      "*** START OF\n"
     ]
    }
   ],
   "source": [
    "#abrimos el fichero\n",
    "f=open('ElAmigoManso.txt','r')\n",
    "texto=f.read()\n",
    "print texto[0:500]\n",
    "f.close()   \n"
   ]
  },
  {
   "cell_type": "code",
   "execution_count": 8,
   "metadata": {
    "collapsed": false,
    "deletable": true,
    "editable": true,
    "slideshow": {
     "slide_type": "fragment"
    }
   },
   "outputs": [
    {
     "name": "stdout",
     "output_type": "stream",
     "text": [
      "﻿The Project Gutenberg EBook of El amigo Manso, by Benito Pérez Galdós\n",
      "\n",
      "This eBook is for the us\n"
     ]
    }
   ],
   "source": [
    "f=open(\"nuevofichero.txt\",'w')\n",
    "f.write(texto[0:500])\n",
    "f.close\n",
    "#vemos que hemos escrito\n",
    "fp=open(\"nuevofichero.txt\",'r')\n",
    "print fp.read()\n",
    "fp.close()"
   ]
  },
  {
   "cell_type": "markdown",
   "metadata": {
    "deletable": true,
    "editable": true,
    "slideshow": {
     "slide_type": "subslide"
    }
   },
   "source": [
    "### Ficheros JSON\n",
    "JSON es un formato popular para el intercambio de información entre sistemas informáticos a través de servicios web, entre otras tareas. \n",
    "\n",
    "- Para trabajar con ficheros JSON tenemos que importar la librería json.\n",
    "\n",
    "- La función **dumps(data)** formatea una cadena con el formato json.\n",
    "\n",
    "- La función **loads(json)** transforma nuestro json en tipos de datos base de Python (cadenas, listas, tuplas,…).\n",
    "\n",
    "Una vez tenemos los datos extraídos del formato JSON podemos acceder a los datos mediante sus índices como si fuera una lista algo más compleja.\n"
   ]
  },
  {
   "cell_type": "code",
   "execution_count": 10,
   "metadata": {
    "collapsed": false,
    "deletable": true,
    "editable": true,
    "slideshow": {
     "slide_type": "fragment"
    }
   },
   "outputs": [
    {
     "name": "stdout",
     "output_type": "stream",
     "text": [
      "Mary Merry\n"
     ]
    }
   ],
   "source": [
    "import json\n",
    "datos={\"agenda\":[{\"nombre\":\"John Doe\",\"edad\":30,\"telefono\": \"672891345\"},{\"nombre\":\"Mary Merry\",\"edad\":28,\"telefono\":\"608231456\"}]}\n",
    "\n",
    "json_codificado=json.dumps(datos)\n",
    "\n",
    "json_decodificado=json.loads(json_codificado)\n",
    "\n",
    "print json_decodificado[\"agenda\"][1][\"nombre\"]\n"
   ]
  },
  {
   "cell_type": "markdown",
   "metadata": {
    "collapsed": true,
    "deletable": true,
    "editable": true,
    "slideshow": {
     "slide_type": "slide"
    }
   },
   "source": [
    "## Excepciones\n",
    "\n",
    "Es posible que al trabajar con programas tengamos que lidiar con excepciones. \n",
    "\n",
    "Para capturar las excepciones debemos encerrar el bloque de sentencias que podría generar la excepción entre las palabras reservadas `try` y `except`. Añadiemos tantas sentencias except como excepciones queremos capturar seguidas del nombre de la excepción y un bloque de sentencias que se encarga de manejar la excepción. Siempre es buena idea dejar una última sentencia except sin especificar la excepción para capturar cualquier excepción adicional que pueda surgir. Si se produce una excepción se ejecutará primero el bloque de instrucciones que acompaña el except asociado a la excepción o bien si no hay un bloque especifico el global. \n",
    "\n",
    "En caso de que no haya excepción, no se ejecuta ningún bloque except. Se ejecutaría en ese caso el bloque de sentencias que acompañan la etiqueta `else`.\n",
    "\n",
    "Por último el bloque `finally` son un conjunto de instrucciones que se ejecuta sí o sí haya o no haya excepción."
   ]
  },
  {
   "cell_type": "code",
   "execution_count": 17,
   "metadata": {
    "collapsed": false,
    "deletable": true,
    "editable": true,
    "slideshow": {
     "slide_type": "fragment"
    }
   },
   "outputs": [
    {
     "name": "stdout",
     "output_type": "stream",
     "text": [
      "El valor no es un numero\n"
     ]
    }
   ],
   "source": [
    "try:    \n",
    "    num = int(\"3a\")    \n",
    "    print no_existe\n",
    "except NameError:   \n",
    "    print \"La variable no existe\" \n",
    "except ValueError:    \n",
    "    print \"El valor no es un numero\""
   ]
  },
  {
   "cell_type": "code",
   "execution_count": 16,
   "metadata": {
    "collapsed": false,
    "deletable": true,
    "editable": true,
    "slideshow": {
     "slide_type": "subslide"
    }
   },
   "outputs": [
    {
     "name": "stdout",
     "output_type": "stream",
     "text": [
      "Error: no se ha encontrado el fichero -> [Errno 2] No such file or directory: 'fichero-no-existe.txt'\n",
      "Esto se ejecuta si o si pase lo que pase\n"
     ]
    }
   ],
   "source": [
    "import sys\n",
    "try: \n",
    "    f=open('fichero-no-existe.txt') \n",
    "    s = f.readline() \n",
    "    i=int(s.strip()) \n",
    "except OSError as err: \n",
    "    print(\"Error del sistema operativo: {0}\".format(err)) \n",
    "except IOError as err: \n",
    "    print(\"Error: no se ha encontrado el fichero -> {0}\".format(err)) \n",
    "except ValueError: \n",
    "    print(\"No se ha podido formatear el número de forma adecuada\") \n",
    "except:\n",
    "    print(\"Error inesperado \",sys.exc_info()[0])\n",
    "    raise\n",
    "else:\n",
    "    f.close()\n",
    "finally:\n",
    "    print \"Esto se ejecuta si o si pase lo que pase\""
   ]
  },
  {
   "cell_type": "markdown",
   "metadata": {
    "deletable": true,
    "editable": true,
    "slideshow": {
     "slide_type": "subslide"
    }
   },
   "source": [
    "Algunas excepciones bastante comúnes:\n",
    "\n",
    "|Excepción | Descripción |\n",
    "|---|---|\n",
    "|BaseException| Clase de la que heredan todas las excepciones. |\n",
    "|ArithmeticError |Error aritmético |\n",
    "|AttributeError | No se ha encontrado un atributo en el objeto |\n",
    "|FloatingPointError| Error en coma flotante|\n",
    "|OverflowError| Valor demasiado grande para manejarlo en el programa|\n",
    "|IOError|Error en una operación de entrada/salida|\n",
    "|OSError|Error en una llamada al sistema operativo|\n",
    "|IndexError| Index fuera de rango para una colección |\n",
    "|KeyError|   La clave del diccionario no existe |\n",
    "\n"
   ]
  }
 ],
 "metadata": {
  "anaconda-cloud": {},
  "celltoolbar": "Slideshow",
  "kernelspec": {
   "display_name": "Python [default]",
   "language": "python",
   "name": "python2"
  },
  "language_info": {
   "codemirror_mode": {
    "name": "ipython",
    "version": 2
   },
   "file_extension": ".py",
   "mimetype": "text/x-python",
   "name": "python",
   "nbconvert_exporter": "python",
   "pygments_lexer": "ipython2",
   "version": "2.7.12"
  },
  "nbpresent": {
   "slides": {},
   "themes": {}
  }
 },
 "nbformat": 4,
 "nbformat_minor": 1
}
