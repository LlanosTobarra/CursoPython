{
 "cells": [
  {
   "cell_type": "markdown",
   "metadata": {},
   "source": [
    "# INTRODUCCIÓN A PYTHON. SESIÓN 2"
   ]
  },
  {
   "cell_type": "markdown",
   "metadata": {},
   "source": [
    "## Trabajo con módulos\n",
    "\n",
    "Dentro de un módulo tendremos un conjunto de funciones y objetos que podremos invocar desde otro programa poniendo al principio:\n",
    "    \n",
    "    import nombreModulo\n",
    "\n",
    "El módulo tiene que estar en el mismo directorio que el programa o en el path del sistema\n",
    "\n",
    "Para llamar a una función del módulo, ponemos primero el nombre del módulo seguido de punto y la invocación a la función.\n",
    "Ej: \n",
    "\n",
    "    matrices.suma(m1,m2)"
   ]
  },
  {
   "cell_type": "code",
   "execution_count": 88,
   "metadata": {},
   "outputs": [
    {
     "name": "stdout",
     "output_type": "stream",
     "text": [
      "[[2, 4], [6, 8]]\n"
     ]
    }
   ],
   "source": [
    "#importamos el módulo\n",
    "import matrices\n",
    "\n",
    "m1 = [[1,2],[3,4]]\n",
    "m2 = [[1,2],[3,4]]\n",
    "\n",
    "\n",
    "\n",
    "matrizSuma = matrices.suma(m1,m2)\n",
    "print matrizSuma"
   ]
  },
  {
   "cell_type": "markdown",
   "metadata": {
    "collapsed": true
   },
   "source": [
    "Podemos importar solo una función de un módulo y entonces no hace falta poner el nombre del módulo al invocar la función\n",
    "Usamos la fórmula: \n",
    "\n",
    "    from módulo import función"
   ]
  },
  {
   "cell_type": "code",
   "execution_count": 90,
   "metadata": {},
   "outputs": [
    {
     "name": "stdout",
     "output_type": "stream",
     "text": [
      "[7, 1, 4, 6, 9, 3, 8, 5, 2]\n"
     ]
    }
   ],
   "source": [
    "from random import shuffle\n",
    "\n",
    "sorteo = [1,2,3,4,5,6,7,8,9]\n",
    "shuffle(sorteo)\n",
    "print sorteo"
   ]
  },
  {
   "cell_type": "markdown",
   "metadata": {},
   "source": [
    "## Expresiones regulares\n",
    "\n",
    "Haremos uso del paquete re\n",
    "\n",
    "Podemos usar el método search(patrón,texto) para encontrar la primera coincidencia del patrón en la cadena"
   ]
  },
  {
   "cell_type": "code",
   "execution_count": 91,
   "metadata": {},
   "outputs": [
    {
     "name": "stdout",
     "output_type": "stream",
     "text": [
      " lugar \n"
     ]
    }
   ],
   "source": [
    "import re\n",
    "\n",
    "cadena = \"\"\"En un lugar de la Mancha, de cuyo nombre no quiero acordarme, no ha mucho tiempo que vivía un hidalgo \n",
    "de los de lanza en astillero, adarga antigua, rocín flaco y galgo corredor. Una olla de algo más vaca que carnero, \n",
    "salpicón las más noches, duelos y quebrantos los sábados, lentejas los viernes, algún palomino de añadidura los \n",
    "domingos, consumían las tres partes de su hacienda. \"\"\"\n",
    "\n",
    "#buscamos la primera palabra de cinco o más letras\n",
    "patronCincoLetras = r\"\\s\\w\\w\\w\\w\\w+\\s\"\n",
    "\n",
    "palabraCincoLetras = re.search(patronCincoLetras,cadena)\n",
    "\n",
    "print palabraCincoLetras.group()"
   ]
  },
  {
   "cell_type": "code",
   "execution_count": 92,
   "metadata": {},
   "outputs": [
    {
     "name": "stdout",
     "output_type": "stream",
     "text": [
      " adarga \n"
     ]
    }
   ],
   "source": [
    "patronCincoLetrasEmpiezaVocal = r\"\\s[aeiou]\\w\\w\\w\\w+\\s\"\n",
    "\n",
    "palabraCincoLetrasEmpiezaVocal = re.search(patronCincoLetrasEmpiezaVocal,cadena)\n",
    "\n",
    "print palabraCincoLetrasEmpiezaVocal.group()"
   ]
  },
  {
   "cell_type": "markdown",
   "metadata": {},
   "source": [
    "Si queremos obtener varias partes dentro de un mismo patrón, podemos especificarlo mediante grupos. Cada grupo se indica encerrando la parte correspondiente del patrón entre paréntesis"
   ]
  },
  {
   "cell_type": "code",
   "execution_count": 94,
   "metadata": {},
   "outputs": [
    {
     "name": "stdout",
     "output_type": "stream",
     "text": [
      " acordarme,\n",
      "acordarme\n"
     ]
    }
   ],
   "source": [
    "#patrón que nos captura el espacio inicial y la coma final\n",
    "patronCincoLetrasEmpiezaVocal2 = r\"\\s[aeiou]\\w\\w\\w\\w+\\W\"\n",
    "\n",
    "#veríamos la coma que captura \\W\n",
    "palabraCincoLetrasEmpiezaVocal = re.search(patronCincoLetrasEmpiezaVocal2,cadena)\n",
    "print palabraCincoLetrasEmpiezaVocal.group()\n",
    "\n",
    "\n",
    "#para evitar la coma, agrupamos cada parte del patrón\n",
    "patronCincoLetrasEmpiezaVocal3 = r\"\\s([aeiou]\\w\\w\\w\\w+)\\W\"\n",
    "\n",
    "\n",
    "palabraCincoLetrasEmpiezaVocal = re.search(patronCincoLetrasEmpiezaVocal3,cadena)\n",
    "\n",
    "print palabraCincoLetrasEmpiezaVocal.group(1)\n"
   ]
  },
  {
   "cell_type": "markdown",
   "metadata": {},
   "source": [
    "Con la función findall podemos obtener todas las repeticiones del patrón"
   ]
  },
  {
   "cell_type": "code",
   "execution_count": 95,
   "metadata": {},
   "outputs": [
    {
     "name": "stdout",
     "output_type": "stream",
     "text": [
      "('alice', 'google.com')\n",
      "('bob', 'abc.com')\n"
     ]
    }
   ],
   "source": [
    "cadenaEmails = 'escríbeme a alice@google.com o contacta con mi compañero en bob@abc.com para cualquier otra cosa'\n",
    "\n",
    "\n",
    "correos = re.findall(r'([\\w\\.-]+)@([\\w\\.-]+)', cadenaEmails)\n",
    "for correo in correos:    \n",
    "    print correo\n",
    "\n"
   ]
  },
  {
   "cell_type": "markdown",
   "metadata": {},
   "source": [
    "Para buscar a lo largo de varias líneas, usamos la opción DOTALL"
   ]
  },
  {
   "cell_type": "code",
   "execution_count": 96,
   "metadata": {},
   "outputs": [
    {
     "name": "stdout",
     "output_type": "stream",
     "text": [
      "No se encuentra el patrón\n"
     ]
    }
   ],
   "source": [
    "coincidencia = re.search(r'hidalgo.*astillero', cadena)\n",
    "\n",
    "if coincidencia is not None:\n",
    "    print coincidencia.group(0)\n",
    "else:\n",
    "    print \"No se encuentra el patrón\""
   ]
  },
  {
   "cell_type": "code",
   "execution_count": 98,
   "metadata": {},
   "outputs": [
    {
     "name": "stdout",
     "output_type": "stream",
     "text": [
      "hidalgo \n",
      "de los de lanza en astillero\n"
     ]
    }
   ],
   "source": [
    "coincidencia = re.search(r'hidalgo.*astillero', cadena, re.DOTALL)\n",
    "\n",
    "if coincidencia is not None:\n",
    "    print coincidencia.group()    \n",
    "else:\n",
    "    print \"No se encuentra el patrón\""
   ]
  },
  {
   "cell_type": "markdown",
   "metadata": {},
   "source": [
    "Si queremos buscar el inicio o final de una línea, usamos la opción MULTILINE"
   ]
  },
  {
   "cell_type": "code",
   "execution_count": 99,
   "metadata": {},
   "outputs": [
    {
     "name": "stdout",
     "output_type": "stream",
     "text": [
      "No se encuentra el patrón\n"
     ]
    }
   ],
   "source": [
    "coincidencia = re.search(r'^de los.*', cadena)\n",
    "\n",
    "if coincidencia is not None:\n",
    "    print coincidencia.group()    \n",
    "else:\n",
    "    print \"No se encuentra el patrón\"\n",
    "\n"
   ]
  },
  {
   "cell_type": "code",
   "execution_count": 100,
   "metadata": {},
   "outputs": [
    {
     "name": "stdout",
     "output_type": "stream",
     "text": [
      "de los de lanza en astillero, adarga antigua, rocín flaco y galgo corredor. Una olla de algo más vaca que carnero, \n"
     ]
    }
   ],
   "source": [
    "coincidencia = re.search(r'^de los.*', cadena, re.MULTILINE)\n",
    "\n",
    "if coincidencia is not None:\n",
    "    print coincidencia.group()    \n",
    "else:\n",
    "    print \"No se encuentra el patrón\""
   ]
  },
  {
   "cell_type": "markdown",
   "metadata": {},
   "source": [
    "Podemos usar la opción IGNORECASE para que se traten por igual mayúsculas y minúsculas en un patrón"
   ]
  },
  {
   "cell_type": "code",
   "execution_count": 101,
   "metadata": {},
   "outputs": [
    {
     "name": "stdout",
     "output_type": "stream",
     "text": [
      "[' mucho ', ' m\\xc3\\xa1s ', ' m\\xc3\\xa1s ']\n",
      " mucho \n",
      " más \n",
      " más \n"
     ]
    }
   ],
   "source": [
    "coincidencia = re.findall(r'[\\s\\W]m\\S+[\\s\\W]', cadena)\n",
    "if coincidencia is not None:\n",
    "    print coincidencia\n",
    "    for c in coincidencia:        \n",
    "        print c\n",
    "else:\n",
    "    print \"No se encuentra el patrón\""
   ]
  },
  {
   "cell_type": "code",
   "execution_count": 102,
   "metadata": {},
   "outputs": [
    {
     "name": "stdout",
     "output_type": "stream",
     "text": [
      "[' Mancha, ', ' mucho ', ' m\\xc3\\xa1s ', ' m\\xc3\\xa1s ']\n",
      " Mancha, \n",
      " mucho \n",
      " más \n",
      " más \n"
     ]
    }
   ],
   "source": [
    "coincidencia = re.findall(r'[\\s\\W]m\\S+[\\s\\W]', cadena, re.IGNORECASE)\n",
    "if coincidencia is not None:\n",
    "    print coincidencia\n",
    "    for c in coincidencia:        \n",
    "        print c\n",
    "else:\n",
    "    print \"No se encuentra el patrón\""
   ]
  },
  {
   "cell_type": "markdown",
   "metadata": {},
   "source": [
    "Podemos realizar reemplazos de partes de una cadena por otra con la función sub(patrón, reemplazo, cadena)\n",
    "\n"
   ]
  },
  {
   "cell_type": "code",
   "execution_count": 104,
   "metadata": {},
   "outputs": [
    {
     "name": "stdout",
     "output_type": "stream",
     "text": [
      "En un lugar de la Mancha <stop> de cuyo nombre no quiero acordarme <stop> no ha mucho tiempo que vivía un hidalgo \n",
      "de los de lanza en astillero <stop> adarga antigua <stop> rocín flaco y galgo corredor. Una olla de algo más vaca que carnero <stop> \n",
      "salpicón las más noches <stop> duelos y quebrantos los sábados <stop> lentejas los viernes <stop> algún palomino de añadidura los \n",
      "domingos <stop> consumían las tres partes de su hacienda. \n"
     ]
    }
   ],
   "source": [
    "#cambiamos las comas por <stop>\n",
    "nuevaCadena = re.sub(',' , ' <stop>' , cadena)\n",
    "print nuevaCadena"
   ]
  },
  {
   "cell_type": "markdown",
   "metadata": {},
   "source": [
    "La función sub nos permite hacer referencia a distintos grupos dentro del patrón para cambiarlos de sitio o mantenerlos en la cadena sustituida. Para hacer referencia a estos grupos en el reemplazo, usamos la barra \\ y el número de grupo comenzando en 1."
   ]
  },
  {
   "cell_type": "code",
   "execution_count": 106,
   "metadata": {},
   "outputs": [
    {
     "name": "stdout",
     "output_type": "stream",
     "text": [
      "<h3>Esto es un primer encabezado que antes era de tipo 1</h3>\n",
      "                   <h3>Esto es un segundo encabezado que antes era de tipo 2</h3>\n"
     ]
    }
   ],
   "source": [
    "cadenaMarcado = \"\"\"<h1>Esto es un primer encabezado</h1>\n",
    "                   <h2>Esto es un segundo encabezado</h2>\"\"\"\n",
    "\n",
    "cadenaNueva = re.sub(r'<h(\\d)>(.*)</h\\d>' , r'<h3>\\2 que antes era de tipo \\1</h3>' , cadenaMarcado)\n",
    "\n",
    "print cadenaNueva"
   ]
  },
  {
   "cell_type": "code",
   "execution_count": null,
   "metadata": {
    "collapsed": true
   },
   "outputs": [],
   "source": []
  }
 ],
 "metadata": {
  "kernelspec": {
   "display_name": "Python 2",
   "language": "python",
   "name": "python2"
  },
  "language_info": {
   "codemirror_mode": {
    "name": "ipython",
    "version": 2
   },
   "file_extension": ".py",
   "mimetype": "text/x-python",
   "name": "python",
   "nbconvert_exporter": "python",
   "pygments_lexer": "ipython2",
   "version": "2.7.13"
  }
 },
 "nbformat": 4,
 "nbformat_minor": 2
}
